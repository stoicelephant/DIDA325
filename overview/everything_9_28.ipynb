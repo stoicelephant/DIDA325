{
 "cells": [
  {
   "cell_type": "markdown",
   "id": "7e320b2f",
   "metadata": {},
   "source": [
    "Data-Intro \n",
    "What is data? Facts and Stats collected for reference or analysis \n",
    "Categorical Data: Membership to some group or categort\n",
    "Numeric: Data which is stored as numbers \n",
    "\n",
    "\"Datafication\" - The process through which human activities are increasingly leaving a digital trace "
   ]
  },
  {
   "cell_type": "markdown",
   "id": "ca716fb6",
   "metadata": {},
   "source": [
    "Vocab: Week 0 \n",
    "\n",
    "keyword/optional argument: an optional argument which must be name to be used. In the function they are given a base value which can be overwritten with another option.\n",
    "\n",
    "object: a special data type which is usually apart of a class. Can have special associated functions called methods. \n",
    "\n",
    "Code: Week 0 \n",
    "\n",
    "I already understand all of this, and don't think it would be constructive to rewrite it, but here is an overview of the topics. \n",
    "- Numeric and String Data Types\n",
    "- Concatenation \n",
    "- Basic Numeric Operations (+,-,*,/,**,// (integer division), %)\n",
    "- Variables \n",
    "- Comparators (>, <, >=, <=. ==, !=)\n",
    "- Functions (max, min, print, len)"
   ]
  },
  {
   "cell_type": "markdown",
   "id": "24e145da",
   "metadata": {},
   "source": [
    "Data Analysis\n",
    "\n",
    "1.1 Working in Pandas \n",
    "1.2 Working in Pandas Activity\n",
    " \n",
    "What is pandas? A python module specilized for loading, and manipulating structured data. "
   ]
  },
  {
   "cell_type": "code",
   "execution_count": 2,
   "id": "52af25d1",
   "metadata": {},
   "outputs": [],
   "source": [
    "import pandas as pd "
   ]
  },
  {
   "cell_type": "code",
   "execution_count": 3,
   "id": "036a2317",
   "metadata": {},
   "outputs": [],
   "source": [
    "holc = pd.read_csv(\"https://raw.githubusercontent.com/fivethirtyeight/data/master/redlining/metro-grades.csv\")"
   ]
  },
  {
   "cell_type": "markdown",
   "id": "06602ceb",
   "metadata": {},
   "source": [
    "So holc is a variable. More than that it is a dataframe. Speicifcially it is an object of the pandas class, and its object type is a dataframe. Some methods we have to work with data frames are. Quick side note, methods are functions associated with a clas and can be performed on objects of the class. Attributes are more precisely a variable associated with a specific instance / object belonging to the class: \n",
    "\n",
    "Ex: (Difference between a an attribute and method). Say we have a class called people. objects of this class are given attribute like height, weight, job, etc. A method may work on these attributes. Specifically, a possible method may be income_calulation, where based off of the individual stats for a person, we can have an estimate for the income. \n",
    "\n",
    "Methods: \n",
    "\n",
    ".info() - give an overview of the data\n",
    ".head() / .tail() - gives a preview of a subset of table from the beginning / end respectively \n",
    ".isnull() / .isna() - gives boolean value of true for each cell which is equivalent to null\n",
    ".sum() - can sum each column (concatenates strings, adds ints / booleans )\n",
    ".fillna(0) - fills the null/na values with wjhatever argument is fed \n",
    ".drop(['column_name'])\n",
    ".describe() - gives general stats for each column of the table \n",
    ".count(), .mean(), .median(), .min(), .max() - stats on multiple pieces of data \n",
    "\n",
    "\n",
    "Attributes: \n",
    "\n",
    ".dtypes - lists data types for columns \n",
    ".columns - lists the names of the columns for a dataframe \n",
    ".values - an array which is a list containing a list for each row \n",
    "\n",
    "Most Important Methods: \n",
    "\n",
    ".loc[] \n",
    ".groupby()\n",
    ".sort_values()"
   ]
  },
  {
   "cell_type": "code",
   "execution_count": 3,
   "id": "6fd3c21c",
   "metadata": {},
   "outputs": [
    {
     "data": {
      "text/plain": [
       "holc_grade\n",
       "A     2040.934783\n",
       "B    12048.362319\n",
       "D    20659.978261\n",
       "C    28282.211679\n",
       "Name: black_pop, dtype: float64"
      ]
     },
     "execution_count": 3,
     "metadata": {},
     "output_type": "execute_result"
    }
   ],
   "source": [
    "#creating dataframes \n",
    "holc = pd.read_csv(\"https://raw.githubusercontent.com/fivethirtyeight/data/master/redlining/metro-grades.csv\")\n",
    "df = pd.DataFrame(([1,2,3],[4,5,6],[7,8,9]))\n",
    "\n",
    "\n",
    "#dropping columns \n",
    "holc.columns[0:3]\n",
    "holc = holc.drop(columns=['metro_area'])\n",
    "\n",
    "\n",
    "#subsetting the columns\n",
    "holc[['holc_grade','white_pop']]\n",
    "#or can create a new df\n",
    "holc2 = holc[['holc_grade','white_pop']]\n",
    "\n",
    "#selecting rows \n",
    "holc['holc_grade'] == 'D'\n",
    "\n",
    "#DataFrame.loc[] takes in a list of True/False values as an index \n",
    "holc.loc[holc.holc_grade == 'D'] #generally holc.loc[column condition]\n",
    "\n",
    "holc.black_pop.mean()\n",
    "\n",
    "#the groupby() function \n",
    "holc.groupby('holc_grade').pct_white.mean() #grouping by the grade category\n",
    "\n",
    "#making a new column \n",
    "holc['new_column_name'] = holc[\"total_pop\"]-holc[\"white_pop\"]\n",
    "\n",
    "#renaming a column \n",
    "holc.rename(columns = {'new_column_name':'pop_pop'})\n",
    "\n",
    "#sorting values \n",
    "holc.groupby('holc_grade').white_pop.mean().sort_values()\n",
    "holc.groupby('holc_grade').black_pop.mean().sort_values()"
   ]
  },
  {
   "cell_type": "markdown",
   "id": "096ff9f7",
   "metadata": {},
   "source": [
    "Data Visualizations \n",
    "\n",
    "2.1 Data Visualization \n",
    "2.2 Data Visualization Activity \n",
    "\n",
    "Good Rules for Data Visualization \n",
    "1) Know who your audience is \n",
    "2) Identify your message \n",
    "3) Adapt the Figure to the Medium \n",
    "4) Captions Enhance Understanding \n",
    "5) Do not Trust Defaults \n",
    "6) Use Color Effectively \n",
    "7) Categories of Colormaps \n",
    "8) Do Not Mislead the Reader \n",
    "9) Avoid Chartjunk \n",
    "10) Message Triumps Beauty \n",
    "\n",
    "We are primarily going to be using seaborn and matplotlib\n"
   ]
  },
  {
   "cell_type": "code",
   "execution_count": 1,
   "id": "faadf8ac",
   "metadata": {},
   "outputs": [],
   "source": [
    "import pandas as pd \n",
    "import seaborn as sns \n",
    "import matplotlib.pyplot as plt "
   ]
  },
  {
   "cell_type": "markdown",
   "id": "9b92678f",
   "metadata": {},
   "source": [
    "Overview of different graphs: \n",
    "1) Histogram - counts of numeric data\n",
    "2) Bar Plot - counts of categorical data \n",
    "3) Scatterplot - comparing two numeric variables \n",
    "4) Boxplot - comparing one categorical and one numeric variable "
   ]
  },
  {
   "cell_type": "code",
   "execution_count": 5,
   "id": "c9fd86f8",
   "metadata": {},
   "outputs": [
    {
     "data": {
      "image/png": "[encoded data removed]",
      "text/plain": [
       "<Figure size 640x480 with 1 Axes>"
      ]
     },
     "metadata": {},
     "output_type": "display_data"
    }
   ],
   "source": [
    "#histogram \n",
    "sns.histplot(holc, x='pct_white')\n",
    "plt.show()"
   ]
  },
  {
   "cell_type": "code",
   "execution_count": 6,
   "id": "177a7226",
   "metadata": {},
   "outputs": [
    {
     "data": {
      "image/png": "[encoded data removed]",
      "text/plain": [
       "<Figure size 640x480 with 1 Axes>"
      ]
     },
     "metadata": {},
     "output_type": "display_data"
    }
   ],
   "source": [
    "sns.barplot(holc,x='holc_grade',y='total_pop')\n",
    "plt.show()"
   ]
  },
  {
   "cell_type": "code",
   "execution_count": 8,
   "id": "d1539ec5",
   "metadata": {},
   "outputs": [
    {
     "data": {
      "image/png": "[encoded data removed]",
      "text/plain": [
       "<Figure size 640x480 with 1 Axes>"
      ]
     },
     "metadata": {},
     "output_type": "display_data"
    }
   ],
   "source": [
    "sns.scatterplot(holc, x='total_pop',y='black_pop')\n",
    "plt.show()"
   ]
  },
  {
   "cell_type": "code",
   "execution_count": 9,
   "id": "ce6620ff",
   "metadata": {},
   "outputs": [
    {
     "data": {
      "text/plain": [
       "<function matplotlib.pyplot.show(close=None, block=None)>"
      ]
     },
     "execution_count": 9,
     "metadata": {},
     "output_type": "execute_result"
    },
    {
     "data": {
      "image/png": "[encoded data removed]",
      "text/plain": [
       "<Figure size 640x480 with 1 Axes>"
      ]
     },
     "metadata": {},
     "output_type": "display_data"
    }
   ],
   "source": [
    "sns.boxplot(holc,x='holc_grade',y='pct_black')\n",
    "plt.show "
   ]
  },
  {
   "cell_type": "code",
   "execution_count": null,
   "id": "c42866df",
   "metadata": {},
   "outputs": [
    {
     "data": {
      "text/plain": [
       "Index(['holc_grade', 'white_pop', 'black_pop', 'hisp_pop', 'asian_pop',\n",
       "       'other_pop', 'total_pop', 'pct_white', 'pct_black', 'pct_hisp',\n",
       "       'pct_asian', 'pct_other', 'lq_white', 'lq_black', 'lq_hisp', 'lq_asian',\n",
       "       'lq_other', 'surr_area_white_pop', 'surr_area_black_pop',\n",
       "       'surr_area_hisp_pop', 'surr_area_asian_pop', 'surr_area_other_pop',\n",
       "       'surr_area_pct_white', 'surr_area_pct_black', 'surr_area_pct_hisp',\n",
       "       'surr_area_pct_asian', 'surr_area_pct_other', 'new_column_name'],\n",
       "      dtype='object')"
      ]
     },
     "execution_count": 11,
     "metadata": {},
     "output_type": "execute_result"
    }
   ],
   "source": [
    "# sns.lineplot(holc,x='...',y='...')"
   ]
  },
  {
   "cell_type": "markdown",
   "id": "a212d33b",
   "metadata": {},
   "source": [
    "Editing Plots: \n",
    "1) Changing the labels ofn plots \n",
    "    - plt.xlabel(...)\n",
    "    - plt.ylabel(...)\n",
    "    - plt.title(...)\n",
    "    - plt.xlim(min,max)\n",
    "    - plt.ylim(min,max)\n",
    "    - plt.xscale(...) - for ex could be the logarithmic scale \n",
    "    - plt.yscale(...)\n",
    "    - binwidth (in frequency charts), size (of points), linewidth, hue, alpha (transparency [0,1])\n",
    "\n",
    "2) Coloring Plots \n",
    "    - hue = some variable \n",
    "    - palette = [...,...,...,...]\n",
    "    - multiple - format for how the colors are going to appear (one possible is stack)\n",
    "    - saturation - the saturation of the plot \n",
    "\n",
    "3) Random Other stuff\n",
    "    - plt.grid()\n",
    "    \n",
    "4) Stylesheets - set the style and and then can use it on the plot, a preset style "
   ]
  }
 ],
 "metadata": {
  "kernelspec": {
   "display_name": "Python 3",
   "language": "python",
   "name": "python3"
  },
  "language_info": {
   "codemirror_mode": {
    "name": "ipython",
    "version": 3
   },
   "file_extension": ".py",
   "mimetype": "text/x-python",
   "name": "python",
   "nbconvert_exporter": "python",
   "pygments_lexer": "ipython3",
   "version": "3.10.9"
  }
 },
 "nbformat": 4,
 "nbformat_minor": 5
}
