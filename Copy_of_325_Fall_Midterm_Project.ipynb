{
  "nbformat": 4,
  "nbformat_minor": 0,
  "metadata": {
    "colab": {
      "provenance": [],
      "include_colab_link": true
    },
    "kernelspec": {
      "name": "python3",
      "display_name": "Python 3"
    },
    "language_info": {
      "name": "python"
    }
  },
  "cells": [
    {
      "cell_type": "markdown",
      "metadata": {
        "id": "view-in-github",
        "colab_type": "text"
      },
      "source": [
        "<a href=\"https://colab.research.google.com/github/stoicelephant/DIDA325/blob/main/Copy_of_325_Fall_Midterm_Project.ipynb\" target=\"_parent\"><img src=\"https://colab.research.google.com/assets/colab-badge.svg\" alt=\"Open In Colab\"/></a>"
      ]
    },
    {
      "cell_type": "markdown",
      "source": [
        "<h3>I am first going to import all of the neccessary libraries that I will need to work with dataframes (pandas) and for data visualizations (matplotlib and seaborn) </h3>"
      ],
      "metadata": {
        "id": "udPFH5-UjHvG"
      }
    },
    {
      "cell_type": "code",
      "source": [
        "import pandas as pd\n",
        "import matplotlib.pyplot as plt\n",
        "import seaborn as sns"
      ],
      "metadata": {
        "id": "-7LsHyY7LzY0"
      },
      "execution_count": null,
      "outputs": []
    },
    {
      "cell_type": "markdown",
      "source": [
        "<h3>I am now going to load in the dataset that I will be working on </h3)"
      ],
      "metadata": {
        "id": "7J-dvNSPi_-t"
      }
    },
    {
      "cell_type": "code",
      "source": [
        "voter_reg = pd.read_csv('https://raw.githubusercontent.com/fivethirtyeight/data/refs/heads/master/voter-registration/new-voter-registrations.csv')"
      ],
      "metadata": {
        "id": "M30_4DTPL82J"
      },
      "execution_count": null,
      "outputs": []
    },
    {
      "cell_type": "markdown",
      "source": [
        "##Introduction (10 points)\n",
        "You've been hired to work with a government organization interested in formation about voter registration in the United States. They have asked you to come up with two research questions--one about national trends and one about a state trend of your choice.\n",
        "\n",
        "Clearly state:\n",
        "* the purpose of your project\n",
        "* what the goal is\n",
        "* why it is important for someone to read this notebook?\n",
        "\n",
        "In additon, state your two research questions\n",
        "\n",
        "* Question 1:\n",
        "* Question 2:\n",
        "\n"
      ],
      "metadata": {
        "id": "0NhbKuYLj0v0"
      }
    },
    {
      "cell_type": "markdown",
      "source": [
        "<h3>Task: Formulate a Research question regarding voter registration trends on the (1) State and (2) National Level</h3>\n",
        "<h3>- Question 1: </h3>\n",
        "<h3>- Question 2: </h3>\n",
        "\n",
        "<h3>Purpose: The purpose of my project is...</h3>\n",
        "<h3>Goal: The goal of my project is... </h3>\n",
        "<h3>This Notebook provides in depth analysis as well as visualiztions surrounding state and national voter registration trends</h3>"
      ],
      "metadata": {
        "id": "5XmmT9t9NERF"
      }
    },
    {
      "cell_type": "markdown",
      "source": [
        "<h3>Below is a preview of the data</h3>"
      ],
      "metadata": {
        "id": "ExN1Y2VBjd-u"
      }
    },
    {
      "cell_type": "code",
      "source": [
        "voter_reg.head()"
      ],
      "metadata": {
        "id": "1RPDCiqdAJLS",
        "outputId": "704ef51a-2b48-4082-89c6-60669c7d46d7",
        "colab": {
          "base_uri": "https://localhost:8080/",
          "height": 206
        }
      },
      "execution_count": null,
      "outputs": [
        {
          "output_type": "execute_result",
          "data": {
            "text/plain": [
              "  Jurisdiction  Year Month  New registered voters\n",
              "0      Arizona  2016   Jan                  25852\n",
              "1      Arizona  2016   Feb                  51155\n",
              "2      Arizona  2016   Mar                  48614\n",
              "3      Arizona  2016   Apr                  30668\n",
              "4      Arizona  2020   Jan                  33229"
            ],
            "text/html": [
              "\n",
              "  <div id=\"df-327b6734-2f75-44a6-aefa-362c27454ee2\" class=\"colab-df-container\">\n",
              "    <div>\n",
              "<style scoped>\n",
              "    .dataframe tbody tr th:only-of-type {\n",
              "        vertical-align: middle;\n",
              "    }\n",
              "\n",
              "    .dataframe tbody tr th {\n",
              "        vertical-align: top;\n",
              "    }\n",
              "\n",
              "    .dataframe thead th {\n",
              "        text-align: right;\n",
              "    }\n",
              "</style>\n",
              "<table border=\"1\" class=\"dataframe\">\n",
              "  <thead>\n",
              "    <tr style=\"text-align: right;\">\n",
              "      <th></th>\n",
              "      <th>Jurisdiction</th>\n",
              "      <th>Year</th>\n",
              "      <th>Month</th>\n",
              "      <th>New registered voters</th>\n",
              "    </tr>\n",
              "  </thead>\n",
              "  <tbody>\n",
              "    <tr>\n",
              "      <th>0</th>\n",
              "      <td>Arizona</td>\n",
              "      <td>2016</td>\n",
              "      <td>Jan</td>\n",
              "      <td>25852</td>\n",
              "    </tr>\n",
              "    <tr>\n",
              "      <th>1</th>\n",
              "      <td>Arizona</td>\n",
              "      <td>2016</td>\n",
              "      <td>Feb</td>\n",
              "      <td>51155</td>\n",
              "    </tr>\n",
              "    <tr>\n",
              "      <th>2</th>\n",
              "      <td>Arizona</td>\n",
              "      <td>2016</td>\n",
              "      <td>Mar</td>\n",
              "      <td>48614</td>\n",
              "    </tr>\n",
              "    <tr>\n",
              "      <th>3</th>\n",
              "      <td>Arizona</td>\n",
              "      <td>2016</td>\n",
              "      <td>Apr</td>\n",
              "      <td>30668</td>\n",
              "    </tr>\n",
              "    <tr>\n",
              "      <th>4</th>\n",
              "      <td>Arizona</td>\n",
              "      <td>2020</td>\n",
              "      <td>Jan</td>\n",
              "      <td>33229</td>\n",
              "    </tr>\n",
              "  </tbody>\n",
              "</table>\n",
              "</div>\n",
              "    <div class=\"colab-df-buttons\">\n",
              "\n",
              "  <div class=\"colab-df-container\">\n",
              "    <button class=\"colab-df-convert\" onclick=\"convertToInteractive('df-327b6734-2f75-44a6-aefa-362c27454ee2')\"\n",
              "            title=\"Convert this dataframe to an interactive table.\"\n",
              "            style=\"display:none;\">\n",
              "\n",
              "  <svg xmlns=\"http://www.w3.org/2000/svg\" height=\"24px\" viewBox=\"0 -960 960 960\">\n",
              "    <path d=\"M120-120v-720h720v720H120Zm60-500h600v-160H180v160Zm220 220h160v-160H400v160Zm0 220h160v-160H400v160ZM180-400h160v-160H180v160Zm440 0h160v-160H620v160ZM180-180h160v-160H180v160Zm440 0h160v-160H620v160Z\"/>\n",
              "  </svg>\n",
              "    </button>\n",
              "\n",
              "  <style>\n",
              "    .colab-df-container {\n",
              "      display:flex;\n",
              "      gap: 12px;\n",
              "    }\n",
              "\n",
              "    .colab-df-convert {\n",
              "      background-color: #E8F0FE;\n",
              "      border: none;\n",
              "      border-radius: 50%;\n",
              "      cursor: pointer;\n",
              "      display: none;\n",
              "      fill: #1967D2;\n",
              "      height: 32px;\n",
              "      padding: 0 0 0 0;\n",
              "      width: 32px;\n",
              "    }\n",
              "\n",
              "    .colab-df-convert:hover {\n",
              "      background-color: #E2EBFA;\n",
              "      box-shadow: 0px 1px 2px rgba(60, 64, 67, 0.3), 0px 1px 3px 1px rgba(60, 64, 67, 0.15);\n",
              "      fill: #174EA6;\n",
              "    }\n",
              "\n",
              "    .colab-df-buttons div {\n",
              "      margin-bottom: 4px;\n",
              "    }\n",
              "\n",
              "    [theme=dark] .colab-df-convert {\n",
              "      background-color: #3B4455;\n",
              "      fill: #D2E3FC;\n",
              "    }\n",
              "\n",
              "    [theme=dark] .colab-df-convert:hover {\n",
              "      background-color: #434B5C;\n",
              "      box-shadow: 0px 1px 3px 1px rgba(0, 0, 0, 0.15);\n",
              "      filter: drop-shadow(0px 1px 2px rgba(0, 0, 0, 0.3));\n",
              "      fill: #FFFFFF;\n",
              "    }\n",
              "  </style>\n",
              "\n",
              "    <script>\n",
              "      const buttonEl =\n",
              "        document.querySelector('#df-327b6734-2f75-44a6-aefa-362c27454ee2 button.colab-df-convert');\n",
              "      buttonEl.style.display =\n",
              "        google.colab.kernel.accessAllowed ? 'block' : 'none';\n",
              "\n",
              "      async function convertToInteractive(key) {\n",
              "        const element = document.querySelector('#df-327b6734-2f75-44a6-aefa-362c27454ee2');\n",
              "        const dataTable =\n",
              "          await google.colab.kernel.invokeFunction('convertToInteractive',\n",
              "                                                    [key], {});\n",
              "        if (!dataTable) return;\n",
              "\n",
              "        const docLinkHtml = 'Like what you see? Visit the ' +\n",
              "          '<a target=\"_blank\" href=https://colab.research.google.com/notebooks/data_table.ipynb>data table notebook</a>'\n",
              "          + ' to learn more about interactive tables.';\n",
              "        element.innerHTML = '';\n",
              "        dataTable['output_type'] = 'display_data';\n",
              "        await google.colab.output.renderOutput(dataTable, element);\n",
              "        const docLink = document.createElement('div');\n",
              "        docLink.innerHTML = docLinkHtml;\n",
              "        element.appendChild(docLink);\n",
              "      }\n",
              "    </script>\n",
              "  </div>\n",
              "\n",
              "\n",
              "    <div id=\"df-884f69aa-b613-401d-95ba-633440ebfafd\">\n",
              "      <button class=\"colab-df-quickchart\" onclick=\"quickchart('df-884f69aa-b613-401d-95ba-633440ebfafd')\"\n",
              "                title=\"Suggest charts\"\n",
              "                style=\"display:none;\">\n",
              "\n",
              "<svg xmlns=\"http://www.w3.org/2000/svg\" height=\"24px\"viewBox=\"0 0 24 24\"\n",
              "     width=\"24px\">\n",
              "    <g>\n",
              "        <path d=\"M19 3H5c-1.1 0-2 .9-2 2v14c0 1.1.9 2 2 2h14c1.1 0 2-.9 2-2V5c0-1.1-.9-2-2-2zM9 17H7v-7h2v7zm4 0h-2V7h2v10zm4 0h-2v-4h2v4z\"/>\n",
              "    </g>\n",
              "</svg>\n",
              "      </button>\n",
              "\n",
              "<style>\n",
              "  .colab-df-quickchart {\n",
              "      --bg-color: #E8F0FE;\n",
              "      --fill-color: #1967D2;\n",
              "      --hover-bg-color: #E2EBFA;\n",
              "      --hover-fill-color: #174EA6;\n",
              "      --disabled-fill-color: #AAA;\n",
              "      --disabled-bg-color: #DDD;\n",
              "  }\n",
              "\n",
              "  [theme=dark] .colab-df-quickchart {\n",
              "      --bg-color: #3B4455;\n",
              "      --fill-color: #D2E3FC;\n",
              "      --hover-bg-color: #434B5C;\n",
              "      --hover-fill-color: #FFFFFF;\n",
              "      --disabled-bg-color: #3B4455;\n",
              "      --disabled-fill-color: #666;\n",
              "  }\n",
              "\n",
              "  .colab-df-quickchart {\n",
              "    background-color: var(--bg-color);\n",
              "    border: none;\n",
              "    border-radius: 50%;\n",
              "    cursor: pointer;\n",
              "    display: none;\n",
              "    fill: var(--fill-color);\n",
              "    height: 32px;\n",
              "    padding: 0;\n",
              "    width: 32px;\n",
              "  }\n",
              "\n",
              "  .colab-df-quickchart:hover {\n",
              "    background-color: var(--hover-bg-color);\n",
              "    box-shadow: 0 1px 2px rgba(60, 64, 67, 0.3), 0 1px 3px 1px rgba(60, 64, 67, 0.15);\n",
              "    fill: var(--button-hover-fill-color);\n",
              "  }\n",
              "\n",
              "  .colab-df-quickchart-complete:disabled,\n",
              "  .colab-df-quickchart-complete:disabled:hover {\n",
              "    background-color: var(--disabled-bg-color);\n",
              "    fill: var(--disabled-fill-color);\n",
              "    box-shadow: none;\n",
              "  }\n",
              "\n",
              "  .colab-df-spinner {\n",
              "    border: 2px solid var(--fill-color);\n",
              "    border-color: transparent;\n",
              "    border-bottom-color: var(--fill-color);\n",
              "    animation:\n",
              "      spin 1s steps(1) infinite;\n",
              "  }\n",
              "\n",
              "  @keyframes spin {\n",
              "    0% {\n",
              "      border-color: transparent;\n",
              "      border-bottom-color: var(--fill-color);\n",
              "      border-left-color: var(--fill-color);\n",
              "    }\n",
              "    20% {\n",
              "      border-color: transparent;\n",
              "      border-left-color: var(--fill-color);\n",
              "      border-top-color: var(--fill-color);\n",
              "    }\n",
              "    30% {\n",
              "      border-color: transparent;\n",
              "      border-left-color: var(--fill-color);\n",
              "      border-top-color: var(--fill-color);\n",
              "      border-right-color: var(--fill-color);\n",
              "    }\n",
              "    40% {\n",
              "      border-color: transparent;\n",
              "      border-right-color: var(--fill-color);\n",
              "      border-top-color: var(--fill-color);\n",
              "    }\n",
              "    60% {\n",
              "      border-color: transparent;\n",
              "      border-right-color: var(--fill-color);\n",
              "    }\n",
              "    80% {\n",
              "      border-color: transparent;\n",
              "      border-right-color: var(--fill-color);\n",
              "      border-bottom-color: var(--fill-color);\n",
              "    }\n",
              "    90% {\n",
              "      border-color: transparent;\n",
              "      border-bottom-color: var(--fill-color);\n",
              "    }\n",
              "  }\n",
              "</style>\n",
              "\n",
              "      <script>\n",
              "        async function quickchart(key) {\n",
              "          const quickchartButtonEl =\n",
              "            document.querySelector('#' + key + ' button');\n",
              "          quickchartButtonEl.disabled = true;  // To prevent multiple clicks.\n",
              "          quickchartButtonEl.classList.add('colab-df-spinner');\n",
              "          try {\n",
              "            const charts = await google.colab.kernel.invokeFunction(\n",
              "                'suggestCharts', [key], {});\n",
              "          } catch (error) {\n",
              "            console.error('Error during call to suggestCharts:', error);\n",
              "          }\n",
              "          quickchartButtonEl.classList.remove('colab-df-spinner');\n",
              "          quickchartButtonEl.classList.add('colab-df-quickchart-complete');\n",
              "        }\n",
              "        (() => {\n",
              "          let quickchartButtonEl =\n",
              "            document.querySelector('#df-884f69aa-b613-401d-95ba-633440ebfafd button');\n",
              "          quickchartButtonEl.style.display =\n",
              "            google.colab.kernel.accessAllowed ? 'block' : 'none';\n",
              "        })();\n",
              "      </script>\n",
              "    </div>\n",
              "\n",
              "    </div>\n",
              "  </div>\n"
            ],
            "application/vnd.google.colaboratory.intrinsic+json": {
              "type": "dataframe",
              "variable_name": "voter_reg",
              "summary": "{\n  \"name\": \"voter_reg\",\n  \"rows\": 106,\n  \"fields\": [\n    {\n      \"column\": \"Jurisdiction\",\n      \"properties\": {\n        \"dtype\": \"category\",\n        \"num_unique_values\": 12,\n        \"samples\": [\n          \"Texas\",\n          \"North Carolina\",\n          \"Arizona\"\n        ],\n        \"semantic_type\": \"\",\n        \"description\": \"\"\n      }\n    },\n    {\n      \"column\": \"Year\",\n      \"properties\": {\n        \"dtype\": \"number\",\n        \"std\": 2,\n        \"min\": 2016,\n        \"max\": 2020,\n        \"num_unique_values\": 2,\n        \"samples\": [\n          2020,\n          2016\n        ],\n        \"semantic_type\": \"\",\n        \"description\": \"\"\n      }\n    },\n    {\n      \"column\": \"Month\",\n      \"properties\": {\n        \"dtype\": \"category\",\n        \"num_unique_values\": 5,\n        \"samples\": [\n          \"Feb\",\n          \"May\"\n        ],\n        \"semantic_type\": \"\",\n        \"description\": \"\"\n      }\n    },\n    {\n      \"column\": \"New registered voters\",\n      \"properties\": {\n        \"dtype\": \"number\",\n        \"std\": 48596,\n        \"min\": 589,\n        \"max\": 238281,\n        \"num_unique_values\": 106,\n        \"samples\": [\n          26239,\n          174278\n        ],\n        \"semantic_type\": \"\",\n        \"description\": \"\"\n      }\n    }\n  ]\n}"
            }
          },
          "metadata": {},
          "execution_count": 3
        }
      ]
    },
    {
      "cell_type": "markdown",
      "source": [
        "<h3> As we can see the data is comprised of 5 different columns. Namely; <br>\n",
        "1) Juridiction - the state of interest <br>\n",
        "2) Year - the year of interest <br>\n",
        "3) Month - the month of interest <br>\n",
        "4) New Registered Voters - the number of newly registered voters located in the juisdicitional state of interest during the respective year and month of interest. </h3>"
      ],
      "metadata": {
        "id": "-N61uVyCOrFO"
      }
    },
    {
      "cell_type": "markdown",
      "source": [
        "<h3>I am now going to check the table to see if theres any empty/null values that I will have to deal with. As can be seen in the code cell below, there is no N/A cells in our dataframe. </h3>"
      ],
      "metadata": {
        "id": "V4AdCw75iskT"
      }
    },
    {
      "cell_type": "code",
      "source": [
        "voter_reg.isna().sum()"
      ],
      "metadata": {
        "id": "ahhPKR5xAJ8D",
        "outputId": "269336cb-9060-40bd-a779-7519a316c12b",
        "colab": {
          "base_uri": "https://localhost:8080/",
          "height": 210
        }
      },
      "execution_count": null,
      "outputs": [
        {
          "output_type": "execute_result",
          "data": {
            "text/plain": [
              "Jurisdiction             0\n",
              "Year                     0\n",
              "Month                    0\n",
              "New registered voters    0\n",
              "dtype: int64"
            ],
            "text/html": [
              "<div>\n",
              "<style scoped>\n",
              "    .dataframe tbody tr th:only-of-type {\n",
              "        vertical-align: middle;\n",
              "    }\n",
              "\n",
              "    .dataframe tbody tr th {\n",
              "        vertical-align: top;\n",
              "    }\n",
              "\n",
              "    .dataframe thead th {\n",
              "        text-align: right;\n",
              "    }\n",
              "</style>\n",
              "<table border=\"1\" class=\"dataframe\">\n",
              "  <thead>\n",
              "    <tr style=\"text-align: right;\">\n",
              "      <th></th>\n",
              "      <th>0</th>\n",
              "    </tr>\n",
              "  </thead>\n",
              "  <tbody>\n",
              "    <tr>\n",
              "      <th>Jurisdiction</th>\n",
              "      <td>0</td>\n",
              "    </tr>\n",
              "    <tr>\n",
              "      <th>Year</th>\n",
              "      <td>0</td>\n",
              "    </tr>\n",
              "    <tr>\n",
              "      <th>Month</th>\n",
              "      <td>0</td>\n",
              "    </tr>\n",
              "    <tr>\n",
              "      <th>New registered voters</th>\n",
              "      <td>0</td>\n",
              "    </tr>\n",
              "  </tbody>\n",
              "</table>\n",
              "</div><br><label><b>dtype:</b> int64</label>"
            ]
          },
          "metadata": {},
          "execution_count": 4
        }
      ]
    },
    {
      "cell_type": "markdown",
      "source": [
        "<h3>To get a better idea of the data we are working with, I am going to check the data types of each of the columns. As can be seen in the code cell below, <br> 1) Jurisdiction - an object / string datatype <br> 2) Year - a 64 bit integer datatype <br> 3) Month - an object / string datatype <br> 4) New registered voters - a 64 bit integer datatype  </h3>"
      ],
      "metadata": {
        "id": "M2fwyrdolVLq"
      }
    },
    {
      "cell_type": "code",
      "source": [
        "voter_reg.dtypes"
      ],
      "metadata": {
        "id": "wJDFJloBAK1a",
        "outputId": "cc7640a1-6057-4a10-9835-2b90cec4b173",
        "colab": {
          "base_uri": "https://localhost:8080/",
          "height": 210
        }
      },
      "execution_count": null,
      "outputs": [
        {
          "output_type": "execute_result",
          "data": {
            "text/plain": [
              "Jurisdiction             object\n",
              "Year                      int64\n",
              "Month                    object\n",
              "New registered voters     int64\n",
              "dtype: object"
            ],
            "text/html": [
              "<div>\n",
              "<style scoped>\n",
              "    .dataframe tbody tr th:only-of-type {\n",
              "        vertical-align: middle;\n",
              "    }\n",
              "\n",
              "    .dataframe tbody tr th {\n",
              "        vertical-align: top;\n",
              "    }\n",
              "\n",
              "    .dataframe thead th {\n",
              "        text-align: right;\n",
              "    }\n",
              "</style>\n",
              "<table border=\"1\" class=\"dataframe\">\n",
              "  <thead>\n",
              "    <tr style=\"text-align: right;\">\n",
              "      <th></th>\n",
              "      <th>0</th>\n",
              "    </tr>\n",
              "  </thead>\n",
              "  <tbody>\n",
              "    <tr>\n",
              "      <th>Jurisdiction</th>\n",
              "      <td>object</td>\n",
              "    </tr>\n",
              "    <tr>\n",
              "      <th>Year</th>\n",
              "      <td>int64</td>\n",
              "    </tr>\n",
              "    <tr>\n",
              "      <th>Month</th>\n",
              "      <td>object</td>\n",
              "    </tr>\n",
              "    <tr>\n",
              "      <th>New registered voters</th>\n",
              "      <td>int64</td>\n",
              "    </tr>\n",
              "  </tbody>\n",
              "</table>\n",
              "</div><br><label><b>dtype:</b> object</label>"
            ]
          },
          "metadata": {},
          "execution_count": 5
        }
      ]
    },
    {
      "cell_type": "markdown",
      "source": [
        "<h3>To make my life a little easier when referencing the columns of the table, I am going to rename the 'jurisdiction' column to 'NAME' and the 'New registered voters' to 'registered_voters' </h3>"
      ],
      "metadata": {
        "id": "WqicEyDqlbDV"
      }
    },
    {
      "cell_type": "code",
      "source": [
        "voter_reg = voter_reg.rename(columns={'Jurisdiction':'NAME','New registered voters':'registered_voters'})\n",
        "voter_reg"
      ],
      "metadata": {
        "id": "2nqFnsKOAMPQ",
        "outputId": "4c46e740-d2cf-4b9f-dcf8-03b09955cf35",
        "colab": {
          "base_uri": "https://localhost:8080/",
          "height": 424
        }
      },
      "execution_count": null,
      "outputs": [
        {
          "output_type": "execute_result",
          "data": {
            "text/plain": [
              "         NAME  Year Month  registered_voters\n",
              "0     Arizona  2016   Jan              25852\n",
              "1     Arizona  2016   Feb              51155\n",
              "2     Arizona  2016   Mar              48614\n",
              "3     Arizona  2016   Apr              30668\n",
              "4     Arizona  2020   Jan              33229\n",
              "..        ...   ...   ...                ...\n",
              "101  Virginia  2020   Jan              25934\n",
              "102  Virginia  2020   Feb              29507\n",
              "103  Virginia  2020   Mar              31492\n",
              "104  Virginia  2020   Apr               5467\n",
              "105  Virginia  2020   May               8239\n",
              "\n",
              "[106 rows x 4 columns]"
            ],
            "text/html": [
              "\n",
              "  <div id=\"df-80fa5d13-de3c-4516-adeb-48a2174e7665\" class=\"colab-df-container\">\n",
              "    <div>\n",
              "<style scoped>\n",
              "    .dataframe tbody tr th:only-of-type {\n",
              "        vertical-align: middle;\n",
              "    }\n",
              "\n",
              "    .dataframe tbody tr th {\n",
              "        vertical-align: top;\n",
              "    }\n",
              "\n",
              "    .dataframe thead th {\n",
              "        text-align: right;\n",
              "    }\n",
              "</style>\n",
              "<table border=\"1\" class=\"dataframe\">\n",
              "  <thead>\n",
              "    <tr style=\"text-align: right;\">\n",
              "      <th></th>\n",
              "      <th>NAME</th>\n",
              "      <th>Year</th>\n",
              "      <th>Month</th>\n",
              "      <th>registered_voters</th>\n",
              "    </tr>\n",
              "  </thead>\n",
              "  <tbody>\n",
              "    <tr>\n",
              "      <th>0</th>\n",
              "      <td>Arizona</td>\n",
              "      <td>2016</td>\n",
              "      <td>Jan</td>\n",
              "      <td>25852</td>\n",
              "    </tr>\n",
              "    <tr>\n",
              "      <th>1</th>\n",
              "      <td>Arizona</td>\n",
              "      <td>2016</td>\n",
              "      <td>Feb</td>\n",
              "      <td>51155</td>\n",
              "    </tr>\n",
              "    <tr>\n",
              "      <th>2</th>\n",
              "      <td>Arizona</td>\n",
              "      <td>2016</td>\n",
              "      <td>Mar</td>\n",
              "      <td>48614</td>\n",
              "    </tr>\n",
              "    <tr>\n",
              "      <th>3</th>\n",
              "      <td>Arizona</td>\n",
              "      <td>2016</td>\n",
              "      <td>Apr</td>\n",
              "      <td>30668</td>\n",
              "    </tr>\n",
              "    <tr>\n",
              "      <th>4</th>\n",
              "      <td>Arizona</td>\n",
              "      <td>2020</td>\n",
              "      <td>Jan</td>\n",
              "      <td>33229</td>\n",
              "    </tr>\n",
              "    <tr>\n",
              "      <th>...</th>\n",
              "      <td>...</td>\n",
              "      <td>...</td>\n",
              "      <td>...</td>\n",
              "      <td>...</td>\n",
              "    </tr>\n",
              "    <tr>\n",
              "      <th>101</th>\n",
              "      <td>Virginia</td>\n",
              "      <td>2020</td>\n",
              "      <td>Jan</td>\n",
              "      <td>25934</td>\n",
              "    </tr>\n",
              "    <tr>\n",
              "      <th>102</th>\n",
              "      <td>Virginia</td>\n",
              "      <td>2020</td>\n",
              "      <td>Feb</td>\n",
              "      <td>29507</td>\n",
              "    </tr>\n",
              "    <tr>\n",
              "      <th>103</th>\n",
              "      <td>Virginia</td>\n",
              "      <td>2020</td>\n",
              "      <td>Mar</td>\n",
              "      <td>31492</td>\n",
              "    </tr>\n",
              "    <tr>\n",
              "      <th>104</th>\n",
              "      <td>Virginia</td>\n",
              "      <td>2020</td>\n",
              "      <td>Apr</td>\n",
              "      <td>5467</td>\n",
              "    </tr>\n",
              "    <tr>\n",
              "      <th>105</th>\n",
              "      <td>Virginia</td>\n",
              "      <td>2020</td>\n",
              "      <td>May</td>\n",
              "      <td>8239</td>\n",
              "    </tr>\n",
              "  </tbody>\n",
              "</table>\n",
              "<p>106 rows × 4 columns</p>\n",
              "</div>\n",
              "    <div class=\"colab-df-buttons\">\n",
              "\n",
              "  <div class=\"colab-df-container\">\n",
              "    <button class=\"colab-df-convert\" onclick=\"convertToInteractive('df-80fa5d13-de3c-4516-adeb-48a2174e7665')\"\n",
              "            title=\"Convert this dataframe to an interactive table.\"\n",
              "            style=\"display:none;\">\n",
              "\n",
              "  <svg xmlns=\"http://www.w3.org/2000/svg\" height=\"24px\" viewBox=\"0 -960 960 960\">\n",
              "    <path d=\"M120-120v-720h720v720H120Zm60-500h600v-160H180v160Zm220 220h160v-160H400v160Zm0 220h160v-160H400v160ZM180-400h160v-160H180v160Zm440 0h160v-160H620v160ZM180-180h160v-160H180v160Zm440 0h160v-160H620v160Z\"/>\n",
              "  </svg>\n",
              "    </button>\n",
              "\n",
              "  <style>\n",
              "    .colab-df-container {\n",
              "      display:flex;\n",
              "      gap: 12px;\n",
              "    }\n",
              "\n",
              "    .colab-df-convert {\n",
              "      background-color: #E8F0FE;\n",
              "      border: none;\n",
              "      border-radius: 50%;\n",
              "      cursor: pointer;\n",
              "      display: none;\n",
              "      fill: #1967D2;\n",
              "      height: 32px;\n",
              "      padding: 0 0 0 0;\n",
              "      width: 32px;\n",
              "    }\n",
              "\n",
              "    .colab-df-convert:hover {\n",
              "      background-color: #E2EBFA;\n",
              "      box-shadow: 0px 1px 2px rgba(60, 64, 67, 0.3), 0px 1px 3px 1px rgba(60, 64, 67, 0.15);\n",
              "      fill: #174EA6;\n",
              "    }\n",
              "\n",
              "    .colab-df-buttons div {\n",
              "      margin-bottom: 4px;\n",
              "    }\n",
              "\n",
              "    [theme=dark] .colab-df-convert {\n",
              "      background-color: #3B4455;\n",
              "      fill: #D2E3FC;\n",
              "    }\n",
              "\n",
              "    [theme=dark] .colab-df-convert:hover {\n",
              "      background-color: #434B5C;\n",
              "      box-shadow: 0px 1px 3px 1px rgba(0, 0, 0, 0.15);\n",
              "      filter: drop-shadow(0px 1px 2px rgba(0, 0, 0, 0.3));\n",
              "      fill: #FFFFFF;\n",
              "    }\n",
              "  </style>\n",
              "\n",
              "    <script>\n",
              "      const buttonEl =\n",
              "        document.querySelector('#df-80fa5d13-de3c-4516-adeb-48a2174e7665 button.colab-df-convert');\n",
              "      buttonEl.style.display =\n",
              "        google.colab.kernel.accessAllowed ? 'block' : 'none';\n",
              "\n",
              "      async function convertToInteractive(key) {\n",
              "        const element = document.querySelector('#df-80fa5d13-de3c-4516-adeb-48a2174e7665');\n",
              "        const dataTable =\n",
              "          await google.colab.kernel.invokeFunction('convertToInteractive',\n",
              "                                                    [key], {});\n",
              "        if (!dataTable) return;\n",
              "\n",
              "        const docLinkHtml = 'Like what you see? Visit the ' +\n",
              "          '<a target=\"_blank\" href=https://colab.research.google.com/notebooks/data_table.ipynb>data table notebook</a>'\n",
              "          + ' to learn more about interactive tables.';\n",
              "        element.innerHTML = '';\n",
              "        dataTable['output_type'] = 'display_data';\n",
              "        await google.colab.output.renderOutput(dataTable, element);\n",
              "        const docLink = document.createElement('div');\n",
              "        docLink.innerHTML = docLinkHtml;\n",
              "        element.appendChild(docLink);\n",
              "      }\n",
              "    </script>\n",
              "  </div>\n",
              "\n",
              "\n",
              "    <div id=\"df-83461cfd-3717-42fb-a7c5-7eb9924b3aa6\">\n",
              "      <button class=\"colab-df-quickchart\" onclick=\"quickchart('df-83461cfd-3717-42fb-a7c5-7eb9924b3aa6')\"\n",
              "                title=\"Suggest charts\"\n",
              "                style=\"display:none;\">\n",
              "\n",
              "<svg xmlns=\"http://www.w3.org/2000/svg\" height=\"24px\"viewBox=\"0 0 24 24\"\n",
              "     width=\"24px\">\n",
              "    <g>\n",
              "        <path d=\"M19 3H5c-1.1 0-2 .9-2 2v14c0 1.1.9 2 2 2h14c1.1 0 2-.9 2-2V5c0-1.1-.9-2-2-2zM9 17H7v-7h2v7zm4 0h-2V7h2v10zm4 0h-2v-4h2v4z\"/>\n",
              "    </g>\n",
              "</svg>\n",
              "      </button>\n",
              "\n",
              "<style>\n",
              "  .colab-df-quickchart {\n",
              "      --bg-color: #E8F0FE;\n",
              "      --fill-color: #1967D2;\n",
              "      --hover-bg-color: #E2EBFA;\n",
              "      --hover-fill-color: #174EA6;\n",
              "      --disabled-fill-color: #AAA;\n",
              "      --disabled-bg-color: #DDD;\n",
              "  }\n",
              "\n",
              "  [theme=dark] .colab-df-quickchart {\n",
              "      --bg-color: #3B4455;\n",
              "      --fill-color: #D2E3FC;\n",
              "      --hover-bg-color: #434B5C;\n",
              "      --hover-fill-color: #FFFFFF;\n",
              "      --disabled-bg-color: #3B4455;\n",
              "      --disabled-fill-color: #666;\n",
              "  }\n",
              "\n",
              "  .colab-df-quickchart {\n",
              "    background-color: var(--bg-color);\n",
              "    border: none;\n",
              "    border-radius: 50%;\n",
              "    cursor: pointer;\n",
              "    display: none;\n",
              "    fill: var(--fill-color);\n",
              "    height: 32px;\n",
              "    padding: 0;\n",
              "    width: 32px;\n",
              "  }\n",
              "\n",
              "  .colab-df-quickchart:hover {\n",
              "    background-color: var(--hover-bg-color);\n",
              "    box-shadow: 0 1px 2px rgba(60, 64, 67, 0.3), 0 1px 3px 1px rgba(60, 64, 67, 0.15);\n",
              "    fill: var(--button-hover-fill-color);\n",
              "  }\n",
              "\n",
              "  .colab-df-quickchart-complete:disabled,\n",
              "  .colab-df-quickchart-complete:disabled:hover {\n",
              "    background-color: var(--disabled-bg-color);\n",
              "    fill: var(--disabled-fill-color);\n",
              "    box-shadow: none;\n",
              "  }\n",
              "\n",
              "  .colab-df-spinner {\n",
              "    border: 2px solid var(--fill-color);\n",
              "    border-color: transparent;\n",
              "    border-bottom-color: var(--fill-color);\n",
              "    animation:\n",
              "      spin 1s steps(1) infinite;\n",
              "  }\n",
              "\n",
              "  @keyframes spin {\n",
              "    0% {\n",
              "      border-color: transparent;\n",
              "      border-bottom-color: var(--fill-color);\n",
              "      border-left-color: var(--fill-color);\n",
              "    }\n",
              "    20% {\n",
              "      border-color: transparent;\n",
              "      border-left-color: var(--fill-color);\n",
              "      border-top-color: var(--fill-color);\n",
              "    }\n",
              "    30% {\n",
              "      border-color: transparent;\n",
              "      border-left-color: var(--fill-color);\n",
              "      border-top-color: var(--fill-color);\n",
              "      border-right-color: var(--fill-color);\n",
              "    }\n",
              "    40% {\n",
              "      border-color: transparent;\n",
              "      border-right-color: var(--fill-color);\n",
              "      border-top-color: var(--fill-color);\n",
              "    }\n",
              "    60% {\n",
              "      border-color: transparent;\n",
              "      border-right-color: var(--fill-color);\n",
              "    }\n",
              "    80% {\n",
              "      border-color: transparent;\n",
              "      border-right-color: var(--fill-color);\n",
              "      border-bottom-color: var(--fill-color);\n",
              "    }\n",
              "    90% {\n",
              "      border-color: transparent;\n",
              "      border-bottom-color: var(--fill-color);\n",
              "    }\n",
              "  }\n",
              "</style>\n",
              "\n",
              "      <script>\n",
              "        async function quickchart(key) {\n",
              "          const quickchartButtonEl =\n",
              "            document.querySelector('#' + key + ' button');\n",
              "          quickchartButtonEl.disabled = true;  // To prevent multiple clicks.\n",
              "          quickchartButtonEl.classList.add('colab-df-spinner');\n",
              "          try {\n",
              "            const charts = await google.colab.kernel.invokeFunction(\n",
              "                'suggestCharts', [key], {});\n",
              "          } catch (error) {\n",
              "            console.error('Error during call to suggestCharts:', error);\n",
              "          }\n",
              "          quickchartButtonEl.classList.remove('colab-df-spinner');\n",
              "          quickchartButtonEl.classList.add('colab-df-quickchart-complete');\n",
              "        }\n",
              "        (() => {\n",
              "          let quickchartButtonEl =\n",
              "            document.querySelector('#df-83461cfd-3717-42fb-a7c5-7eb9924b3aa6 button');\n",
              "          quickchartButtonEl.style.display =\n",
              "            google.colab.kernel.accessAllowed ? 'block' : 'none';\n",
              "        })();\n",
              "      </script>\n",
              "    </div>\n",
              "\n",
              "  <div id=\"id_5e592f5d-96a2-4b7a-8e28-9f5c8326e908\">\n",
              "    <style>\n",
              "      .colab-df-generate {\n",
              "        background-color: #E8F0FE;\n",
              "        border: none;\n",
              "        border-radius: 50%;\n",
              "        cursor: pointer;\n",
              "        display: none;\n",
              "        fill: #1967D2;\n",
              "        height: 32px;\n",
              "        padding: 0 0 0 0;\n",
              "        width: 32px;\n",
              "      }\n",
              "\n",
              "      .colab-df-generate:hover {\n",
              "        background-color: #E2EBFA;\n",
              "        box-shadow: 0px 1px 2px rgba(60, 64, 67, 0.3), 0px 1px 3px 1px rgba(60, 64, 67, 0.15);\n",
              "        fill: #174EA6;\n",
              "      }\n",
              "\n",
              "      [theme=dark] .colab-df-generate {\n",
              "        background-color: #3B4455;\n",
              "        fill: #D2E3FC;\n",
              "      }\n",
              "\n",
              "      [theme=dark] .colab-df-generate:hover {\n",
              "        background-color: #434B5C;\n",
              "        box-shadow: 0px 1px 3px 1px rgba(0, 0, 0, 0.15);\n",
              "        filter: drop-shadow(0px 1px 2px rgba(0, 0, 0, 0.3));\n",
              "        fill: #FFFFFF;\n",
              "      }\n",
              "    </style>\n",
              "    <button class=\"colab-df-generate\" onclick=\"generateWithVariable('voter_reg')\"\n",
              "            title=\"Generate code using this dataframe.\"\n",
              "            style=\"display:none;\">\n",
              "\n",
              "  <svg xmlns=\"http://www.w3.org/2000/svg\" height=\"24px\"viewBox=\"0 0 24 24\"\n",
              "       width=\"24px\">\n",
              "    <path d=\"M7,19H8.4L18.45,9,17,7.55,7,17.6ZM5,21V16.75L18.45,3.32a2,2,0,0,1,2.83,0l1.4,1.43a1.91,1.91,0,0,1,.58,1.4,1.91,1.91,0,0,1-.58,1.4L9.25,21ZM18.45,9,17,7.55Zm-12,3A5.31,5.31,0,0,0,4.9,8.1,5.31,5.31,0,0,0,1,6.5,5.31,5.31,0,0,0,4.9,4.9,5.31,5.31,0,0,0,6.5,1,5.31,5.31,0,0,0,8.1,4.9,5.31,5.31,0,0,0,12,6.5,5.46,5.46,0,0,0,6.5,12Z\"/>\n",
              "  </svg>\n",
              "    </button>\n",
              "    <script>\n",
              "      (() => {\n",
              "      const buttonEl =\n",
              "        document.querySelector('#id_5e592f5d-96a2-4b7a-8e28-9f5c8326e908 button.colab-df-generate');\n",
              "      buttonEl.style.display =\n",
              "        google.colab.kernel.accessAllowed ? 'block' : 'none';\n",
              "\n",
              "      buttonEl.onclick = () => {\n",
              "        google.colab.notebook.generateWithVariable('voter_reg');\n",
              "      }\n",
              "      })();\n",
              "    </script>\n",
              "  </div>\n",
              "\n",
              "    </div>\n",
              "  </div>\n"
            ],
            "application/vnd.google.colaboratory.intrinsic+json": {
              "type": "dataframe",
              "variable_name": "voter_reg",
              "summary": "{\n  \"name\": \"voter_reg\",\n  \"rows\": 106,\n  \"fields\": [\n    {\n      \"column\": \"NAME\",\n      \"properties\": {\n        \"dtype\": \"category\",\n        \"num_unique_values\": 12,\n        \"samples\": [\n          \"Texas\",\n          \"North Carolina\",\n          \"Arizona\"\n        ],\n        \"semantic_type\": \"\",\n        \"description\": \"\"\n      }\n    },\n    {\n      \"column\": \"Year\",\n      \"properties\": {\n        \"dtype\": \"number\",\n        \"std\": 2,\n        \"min\": 2016,\n        \"max\": 2020,\n        \"num_unique_values\": 2,\n        \"samples\": [\n          2020,\n          2016\n        ],\n        \"semantic_type\": \"\",\n        \"description\": \"\"\n      }\n    },\n    {\n      \"column\": \"Month\",\n      \"properties\": {\n        \"dtype\": \"category\",\n        \"num_unique_values\": 5,\n        \"samples\": [\n          \"Feb\",\n          \"May\"\n        ],\n        \"semantic_type\": \"\",\n        \"description\": \"\"\n      }\n    },\n    {\n      \"column\": \"registered_voters\",\n      \"properties\": {\n        \"dtype\": \"number\",\n        \"std\": 48596,\n        \"min\": 589,\n        \"max\": 238281,\n        \"num_unique_values\": 106,\n        \"samples\": [\n          26239,\n          174278\n        ],\n        \"semantic_type\": \"\",\n        \"description\": \"\"\n      }\n    }\n  ]\n}"
            }
          },
          "metadata": {},
          "execution_count": 6
        }
      ]
    },
    {
      "cell_type": "markdown",
      "source": [
        "Explain any potential limitations to your data (2 points)"
      ],
      "metadata": {
        "id": "WfUNd1pJ1y2N"
      }
    },
    {
      "cell_type": "markdown",
      "source": [
        "Limitation of My Data: <br>\n",
        "1) There are only 106 rows / lines of data in my DataFrame. This isn't a ton of data, making it difficult to find meaninful trends.\n",
        "2) As can be seen in the line of code below we must be aware that we are working specifically with data from 11 distinct states and 1 federal district ( The District of Columbia) - Additionally back to the first point there is only a few pieces of data for each of these locations. Also, most of these states are in the southern half of the US.\n",
        "3) We only have data on the electoral years of 2016 and 2020, during the electoral months of January (01) -May (05)"
      ],
      "metadata": {
        "id": "Py9UmmapRtrh"
      }
    },
    {
      "cell_type": "code",
      "source": [
        "voter_reg.NAME.unique()"
      ],
      "metadata": {
        "id": "VHjYY-JdAMfy",
        "outputId": "e82a58c2-1f0a-48ce-e8af-f31cc74d11f1",
        "colab": {
          "base_uri": "https://localhost:8080/"
        }
      },
      "execution_count": null,
      "outputs": [
        {
          "output_type": "execute_result",
          "data": {
            "text/plain": [
              "array(['Arizona', 'California', 'Colorado', 'Delaware',\n",
              "       'District of Columbia', 'Florida', 'Georgia', 'Illinois',\n",
              "       'Maryland', 'North Carolina', 'Texas', 'Virginia'], dtype=object)"
            ]
          },
          "metadata": {},
          "execution_count": 14
        }
      ]
    },
    {
      "cell_type": "code",
      "source": [
        "voter_reg.Year.unique()"
      ],
      "metadata": {
        "id": "oJXPtJLCUwvm",
        "outputId": "7e0c9af6-eec2-4dca-95e3-1c11b8426164",
        "colab": {
          "base_uri": "https://localhost:8080/"
        }
      },
      "execution_count": null,
      "outputs": [
        {
          "output_type": "execute_result",
          "data": {
            "text/plain": [
              "array([2016, 2020])"
            ]
          },
          "metadata": {},
          "execution_count": 13
        }
      ]
    },
    {
      "cell_type": "code",
      "source": [
        "voter_reg.Month.unique()"
      ],
      "metadata": {
        "id": "-xkqKrzTVEtc",
        "outputId": "525dd16a-202e-4149-8da2-af1232e3f98c",
        "colab": {
          "base_uri": "https://localhost:8080/"
        }
      },
      "execution_count": null,
      "outputs": [
        {
          "output_type": "execute_result",
          "data": {
            "text/plain": [
              "array(['Jan', 'Feb', 'Mar', 'Apr', 'May'], dtype=object)"
            ]
          },
          "metadata": {},
          "execution_count": 18
        }
      ]
    },
    {
      "cell_type": "markdown",
      "source": [
        "<h3>I am now going to perform some exploratory data analysis to get a better grasp of what is going on, and try and see if I can find some preliminary trends I'd like to analyze further. </h3>\n",
        "<h4>As can be seen in the data below i get an idea on the distribution of the voter registration counts, specifically finding the max as well as a measure of central tendency, specifically <br>\n",
        "\n",
        "I compute $$\\sum_{n\\in N}{\\text{registered_voters}_n}/N$$ where n is each of the rows in the data. I obtained that on average, approximately 48,200 people were newely registered voters per state per voting month.\n",
        " </h4>"
      ],
      "metadata": {
        "id": "_u3e0lxol9RU"
      }
    },
    {
      "cell_type": "code",
      "source": [
        "voter_reg.loc[voter_reg.registered_voters == voter_reg.registered_voters.max()]"
      ],
      "metadata": {
        "id": "G3LNBUyCANWX",
        "outputId": "c2cb1208-e368-414e-9f0e-dd1981e0cbee",
        "colab": {
          "base_uri": "https://localhost:8080/",
          "height": 81
        }
      },
      "execution_count": null,
      "outputs": [
        {
          "output_type": "execute_result",
          "data": {
            "text/plain": [
              "          NAME  Year Month  registered_voters\n",
              "13  California  2020   Feb             238281"
            ],
            "text/html": [
              "\n",
              "  <div id=\"df-97af5210-e738-415c-b0f3-fb3beee41514\" class=\"colab-df-container\">\n",
              "    <div>\n",
              "<style scoped>\n",
              "    .dataframe tbody tr th:only-of-type {\n",
              "        vertical-align: middle;\n",
              "    }\n",
              "\n",
              "    .dataframe tbody tr th {\n",
              "        vertical-align: top;\n",
              "    }\n",
              "\n",
              "    .dataframe thead th {\n",
              "        text-align: right;\n",
              "    }\n",
              "</style>\n",
              "<table border=\"1\" class=\"dataframe\">\n",
              "  <thead>\n",
              "    <tr style=\"text-align: right;\">\n",
              "      <th></th>\n",
              "      <th>NAME</th>\n",
              "      <th>Year</th>\n",
              "      <th>Month</th>\n",
              "      <th>registered_voters</th>\n",
              "    </tr>\n",
              "  </thead>\n",
              "  <tbody>\n",
              "    <tr>\n",
              "      <th>13</th>\n",
              "      <td>California</td>\n",
              "      <td>2020</td>\n",
              "      <td>Feb</td>\n",
              "      <td>238281</td>\n",
              "    </tr>\n",
              "  </tbody>\n",
              "</table>\n",
              "</div>\n",
              "    <div class=\"colab-df-buttons\">\n",
              "\n",
              "  <div class=\"colab-df-container\">\n",
              "    <button class=\"colab-df-convert\" onclick=\"convertToInteractive('df-97af5210-e738-415c-b0f3-fb3beee41514')\"\n",
              "            title=\"Convert this dataframe to an interactive table.\"\n",
              "            style=\"display:none;\">\n",
              "\n",
              "  <svg xmlns=\"http://www.w3.org/2000/svg\" height=\"24px\" viewBox=\"0 -960 960 960\">\n",
              "    <path d=\"M120-120v-720h720v720H120Zm60-500h600v-160H180v160Zm220 220h160v-160H400v160Zm0 220h160v-160H400v160ZM180-400h160v-160H180v160Zm440 0h160v-160H620v160ZM180-180h160v-160H180v160Zm440 0h160v-160H620v160Z\"/>\n",
              "  </svg>\n",
              "    </button>\n",
              "\n",
              "  <style>\n",
              "    .colab-df-container {\n",
              "      display:flex;\n",
              "      gap: 12px;\n",
              "    }\n",
              "\n",
              "    .colab-df-convert {\n",
              "      background-color: #E8F0FE;\n",
              "      border: none;\n",
              "      border-radius: 50%;\n",
              "      cursor: pointer;\n",
              "      display: none;\n",
              "      fill: #1967D2;\n",
              "      height: 32px;\n",
              "      padding: 0 0 0 0;\n",
              "      width: 32px;\n",
              "    }\n",
              "\n",
              "    .colab-df-convert:hover {\n",
              "      background-color: #E2EBFA;\n",
              "      box-shadow: 0px 1px 2px rgba(60, 64, 67, 0.3), 0px 1px 3px 1px rgba(60, 64, 67, 0.15);\n",
              "      fill: #174EA6;\n",
              "    }\n",
              "\n",
              "    .colab-df-buttons div {\n",
              "      margin-bottom: 4px;\n",
              "    }\n",
              "\n",
              "    [theme=dark] .colab-df-convert {\n",
              "      background-color: #3B4455;\n",
              "      fill: #D2E3FC;\n",
              "    }\n",
              "\n",
              "    [theme=dark] .colab-df-convert:hover {\n",
              "      background-color: #434B5C;\n",
              "      box-shadow: 0px 1px 3px 1px rgba(0, 0, 0, 0.15);\n",
              "      filter: drop-shadow(0px 1px 2px rgba(0, 0, 0, 0.3));\n",
              "      fill: #FFFFFF;\n",
              "    }\n",
              "  </style>\n",
              "\n",
              "    <script>\n",
              "      const buttonEl =\n",
              "        document.querySelector('#df-97af5210-e738-415c-b0f3-fb3beee41514 button.colab-df-convert');\n",
              "      buttonEl.style.display =\n",
              "        google.colab.kernel.accessAllowed ? 'block' : 'none';\n",
              "\n",
              "      async function convertToInteractive(key) {\n",
              "        const element = document.querySelector('#df-97af5210-e738-415c-b0f3-fb3beee41514');\n",
              "        const dataTable =\n",
              "          await google.colab.kernel.invokeFunction('convertToInteractive',\n",
              "                                                    [key], {});\n",
              "        if (!dataTable) return;\n",
              "\n",
              "        const docLinkHtml = 'Like what you see? Visit the ' +\n",
              "          '<a target=\"_blank\" href=https://colab.research.google.com/notebooks/data_table.ipynb>data table notebook</a>'\n",
              "          + ' to learn more about interactive tables.';\n",
              "        element.innerHTML = '';\n",
              "        dataTable['output_type'] = 'display_data';\n",
              "        await google.colab.output.renderOutput(dataTable, element);\n",
              "        const docLink = document.createElement('div');\n",
              "        docLink.innerHTML = docLinkHtml;\n",
              "        element.appendChild(docLink);\n",
              "      }\n",
              "    </script>\n",
              "  </div>\n",
              "\n",
              "\n",
              "    </div>\n",
              "  </div>\n"
            ],
            "application/vnd.google.colaboratory.intrinsic+json": {
              "type": "dataframe",
              "summary": "{\n  \"name\": \"voter_reg\",\n  \"rows\": 1,\n  \"fields\": [\n    {\n      \"column\": \"NAME\",\n      \"properties\": {\n        \"dtype\": \"string\",\n        \"num_unique_values\": 1,\n        \"samples\": [\n          \"California\"\n        ],\n        \"semantic_type\": \"\",\n        \"description\": \"\"\n      }\n    },\n    {\n      \"column\": \"Year\",\n      \"properties\": {\n        \"dtype\": \"number\",\n        \"std\": null,\n        \"min\": 2020,\n        \"max\": 2020,\n        \"num_unique_values\": 1,\n        \"samples\": [\n          2020\n        ],\n        \"semantic_type\": \"\",\n        \"description\": \"\"\n      }\n    },\n    {\n      \"column\": \"Month\",\n      \"properties\": {\n        \"dtype\": \"string\",\n        \"num_unique_values\": 1,\n        \"samples\": [\n          \"Feb\"\n        ],\n        \"semantic_type\": \"\",\n        \"description\": \"\"\n      }\n    },\n    {\n      \"column\": \"registered_voters\",\n      \"properties\": {\n        \"dtype\": \"number\",\n        \"std\": null,\n        \"min\": 238281,\n        \"max\": 238281,\n        \"num_unique_values\": 1,\n        \"samples\": [\n          238281\n        ],\n        \"semantic_type\": \"\",\n        \"description\": \"\"\n      }\n    }\n  ]\n}"
            }
          },
          "metadata": {},
          "execution_count": 31
        }
      ]
    },
    {
      "cell_type": "code",
      "source": [
        "print(float(voter_reg.registered_voters.mean()))"
      ],
      "metadata": {
        "id": "ucc4lFmVAOPu",
        "outputId": "8b68d480-14a6-4ed8-e239-97b298ce5ae4",
        "colab": {
          "base_uri": "https://localhost:8080/"
        }
      },
      "execution_count": null,
      "outputs": [
        {
          "output_type": "stream",
          "name": "stdout",
          "text": [
            "48223.46226415094\n"
          ]
        }
      ]
    },
    {
      "cell_type": "markdown",
      "source": [
        "Create a dataframe called \"high_voters\" showing only the times where voter registration was higher than your above average. How many times did this happen? (3 points)\n"
      ],
      "metadata": {
        "id": "iUBplzXkpeIM"
      }
    },
    {
      "cell_type": "code",
      "source": [],
      "metadata": {
        "id": "m9QSR3rKAO3D"
      },
      "execution_count": null,
      "outputs": []
    },
    {
      "cell_type": "markdown",
      "source": [
        "How many times did each state go above the national average for new voter registration? (2 points)\n",
        "\n"
      ],
      "metadata": {
        "id": "skpwgqXwp8wA"
      }
    },
    {
      "cell_type": "code",
      "source": [],
      "metadata": {
        "id": "t8pMfJfzAQl2"
      },
      "execution_count": null,
      "outputs": []
    },
    {
      "cell_type": "markdown",
      "source": [
        "Which three states had the highest average voter registration overall? Show only the top three results. (5 points)"
      ],
      "metadata": {
        "id": "dGJ6ev0ihoek"
      }
    },
    {
      "cell_type": "code",
      "source": [],
      "metadata": {
        "id": "3Lj3Gb7JARY0"
      },
      "execution_count": null,
      "outputs": []
    },
    {
      "cell_type": "markdown",
      "source": [
        "##Data Visualization (30 points, as marked)"
      ],
      "metadata": {
        "id": "yZtT1NZmqaDY"
      }
    },
    {
      "cell_type": "markdown",
      "source": [
        "Create a plot showing the voter registratation by state.\n",
        "* A dataframe/a way to show the total voters registered per state. If you create a new dataframe, you may need to include `reset_index()`.(3 points)\n",
        "* Hide the legend by passing legend=false through the plot code (1 point)\n",
        "* Clearly legible labels and titles (2 points)\n",
        "* A color palette that is not the default palette and that makes sense for your data. (1 point)\n",
        "* Comment on the trends you see (2 points)\n",
        "(9 points total)"
      ],
      "metadata": {
        "id": "sWvV4xo44kAm"
      }
    },
    {
      "cell_type": "code",
      "source": [],
      "metadata": {
        "id": "16LfXm8PATNM"
      },
      "execution_count": null,
      "outputs": []
    },
    {
      "cell_type": "markdown",
      "source": [
        "Produce a plot comparing voter registation in 2016 and 2020. (2 pts)\n",
        "* Color the graph based on the month.(1 pt)\n",
        "* Change the default color palette used. (1 pt)\n",
        "* Comment on any trends you see. (2 pts)\n",
        "* Add the appropriate labels and title (1)\n",
        "* Comment on any trends you see (2 points)\n",
        "\n",
        "(9 pts total)"
      ],
      "metadata": {
        "id": "RNpnadEWq5fu"
      }
    },
    {
      "cell_type": "code",
      "source": [],
      "metadata": {
        "id": "TDSef4jeAUJw"
      },
      "execution_count": null,
      "outputs": []
    },
    {
      "cell_type": "markdown",
      "source": [
        "Create a data visualization that relates to either your state level research question or your national level reserach question. If one of your questions was answered by the above graphs, you may not use that question. (12 points)"
      ],
      "metadata": {
        "id": "SbGMnC5XqqoK"
      }
    },
    {
      "cell_type": "code",
      "source": [],
      "metadata": {
        "id": "tb0lz5Aky5At"
      },
      "execution_count": null,
      "outputs": []
    },
    {
      "cell_type": "markdown",
      "source": [
        "##Notebook Conclusion  (15 points)\n",
        "\n",
        "Write a conclusion section that includes\n",
        "* Insights: the insights/outcomes of your notebook (5 points)\n",
        "* Suggestions: Any suggestions or ideas you could offer your client (5 point)\n",
        "* Possible next steps: At least one step that you would take if continuing to work with this project (5 points)\n",
        "\n",
        "This should only be reflective of *your data* as presented here.\n",
        "\n",
        "\n",
        "Each section should be at least 3-4 complete sentences.\n"
      ],
      "metadata": {
        "id": "iHRHv-t14VI-"
      }
    },
    {
      "cell_type": "markdown",
      "source": [
        "##Stakeholder Analysis(14 points as noted)\n",
        "*Loosely adapted from the [Cambridge Analytica/Facebook reveal](https://www.google.com/search?q=cambridge+analytica+facebook+&sca_esv=d43255849d412494&rlz=1C1ONGR_enUS1069US1069&sxsrf=AE3TifP9Zpi1D8vk3Z__wLxSQ-IMSAubZg%3A1758661179884&ei=OwrTaMHdNYmx5NoPkdTiqQY&ved=0ahUKEwiB56C34--PAxWJGFkFHRGqOGUQ4dUDCBA&uact=5&oq=cambridge+analytica+facebook+&gs_lp=Egxnd3Mtd2l6LXNlcnAiHWNhbWJyaWRnZSBhbmFseXRpY2EgZmFjZWJvb2sgMgoQIxiABBgnGIoFMgUQABiABDIIEAAYgAQYxwMyCBAAGIAEGMcDMggQABiABBjHAzIFEAAYgAQyCBAAGIAEGMcDMgYQABgWGB4yBhAAGBYYHjIGEAAYFhgeSJoJUI4DWI4DcAF4AZABAJgBa6ABa6oBAzAuMbgBA8gBAPgBAZgCAqAChAHCAgoQABiwAxjWBBhHmAMAiAYBkAYIkgcDMS4xoAelCLIHAzAuMbgHc8IHBTItMS4xyAcV&sclient=gws-wiz-serp) in 2018. While it is not necessary to look this up, it's always good to know*.\n",
        "\n",
        "All answers should be in full sentences and in a text box, not code.\n",
        "\n",
        "You work for a social media company which is currently allowing third party apps access to data through the use of an API; this means another company can create an app on your platform and acces the data of users who consent.\n",
        "\n",
        "One such company is a lobbying group. They create a third party app called \"Get Out and Vote!\" that asks users about their voter registration and other habits. While users of the app must give consent, the app also allows the lobbying group to collect data on the social media habits of the friends of those who consented to the app. While only only a few hundred thousand partake in the original app, the company is still able to collect from millions of users.\n",
        "\n",
        "They use this data to create personality profiles of unregistered voters. That data is then sold to specific political campaigns who use the information to create political ads that encourage people in populated US cities *not to vote* while creating ads that tell people in swing states *to vote*.\n",
        "\n",
        "While it is not necessary to do research on swing states, here is some information about the demographics of that if you are [curious](https://www.npr.org/2024/09/06/nx-s1-5101765/swing-states-demographics-electorate).\n"
      ],
      "metadata": {
        "id": "1d2JJW9lu1zz"
      }
    },
    {
      "cell_type": "markdown",
      "source": [
        "Identify a key ethical issue here, from the standpoint of the social media company (3 points)."
      ],
      "metadata": {
        "id": "vG6CQSbMcDVJ"
      }
    },
    {
      "cell_type": "markdown",
      "source": [],
      "metadata": {
        "id": "oG418dtBcep2"
      }
    },
    {
      "cell_type": "markdown",
      "source": [
        "What are at least three of our ethical standards that apply to this situation, and why are they relevant (5 points)."
      ],
      "metadata": {
        "id": "3PQsxrlOcfbU"
      }
    },
    {
      "cell_type": "markdown",
      "source": [],
      "metadata": {
        "id": "0q88aNT6ctZG"
      }
    },
    {
      "cell_type": "markdown",
      "source": [
        "Your company wants to continue work with the lobbying firm and does not want to lose them as a client. Looking at this from a *utilitarian ethics* standpoint, propose an alternative action that allows you to work with them while still addressing the ethical issue you mentioned above (6 points).\n",
        "\n"
      ],
      "metadata": {
        "id": "n4RGQGouc1YY"
      }
    },
    {
      "cell_type": "markdown",
      "source": [],
      "metadata": {
        "id": "ygzoqcxcdiHV"
      }
    },
    {
      "cell_type": "markdown",
      "source": [
        "##Github (3 points)\n",
        "Post this to your Github and include the accessible link either here or on brightspace."
      ],
      "metadata": {
        "id": "JN7PjbbV7kUB"
      }
    },
    {
      "cell_type": "markdown",
      "source": [
        "###You can also find my project in my [github](https://github.com/stoicelephant/DIDA325/blob/main/325_Fall_Midterm_Project.ipynb)"
      ],
      "metadata": {
        "id": "6dpFQOr6aqNS"
      }
    },
    {
      "cell_type": "markdown",
      "source": [
        "# Academic Integrity Statement\n",
        "\n",
        "By writing my name in the cell below, I certify that:\n",
        "\n",
        "1. I did not use resources other than:\n",
        "   * the Python notebooks provided by the instructor,\n",
        "   * links provided in this notebook,\n",
        "   * the assigned readings, and\n",
        "   * my own personal notes\n",
        "2. This means that I did not:\n",
        "   * look up anything on Google, or Stack Overflow, Chatgpt, &c.,\n",
        "   * discuss the content of the exam with *anyone* other than the instructors or TAs, or\n",
        "   * do anything that technically doen't break these rules but is against their spirit."
      ],
      "metadata": {
        "id": "OX_8cUSY8cQe"
      }
    },
    {
      "cell_type": "code",
      "source": [
        "James Giuffre"
      ],
      "metadata": {
        "id": "iQO9zh6W8dVc",
        "colab": {
          "base_uri": "https://localhost:8080/",
          "height": 106
        },
        "outputId": "01d15238-a401-4737-969a-517484102189"
      },
      "execution_count": 1,
      "outputs": [
        {
          "output_type": "error",
          "ename": "SyntaxError",
          "evalue": "invalid syntax (ipython-input-3453925861.py, line 1)",
          "traceback": [
            "\u001b[0;36m  File \u001b[0;32m\"/tmp/ipython-input-3453925861.py\"\u001b[0;36m, line \u001b[0;32m1\u001b[0m\n\u001b[0;31m    James Giuffre\u001b[0m\n\u001b[0m          ^\u001b[0m\n\u001b[0;31mSyntaxError\u001b[0m\u001b[0;31m:\u001b[0m invalid syntax\n"
          ]
        }
      ]
    }
  ]
}