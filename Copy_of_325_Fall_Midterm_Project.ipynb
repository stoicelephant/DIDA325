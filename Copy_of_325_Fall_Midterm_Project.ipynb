{
  "nbformat": 4,
  "nbformat_minor": 0,
  "metadata": {
    "colab": {
      "provenance": [],
      "include_colab_link": true
    },
    "kernelspec": {
      "name": "python3",
      "display_name": "Python 3"
    },
    "language_info": {
      "name": "python"
    }
  },
  "cells": [
    {
      "cell_type": "markdown",
      "metadata": {
        "id": "view-in-github",
        "colab_type": "text"
      },
      "source": [
        "<a href=\"https://colab.research.google.com/github/stoicelephant/DIDA325/blob/main/Copy_of_325_Fall_Midterm_Project.ipynb\" target=\"_parent\"><img src=\"https://colab.research.google.com/assets/colab-badge.svg\" alt=\"Open In Colab\"/></a>"
      ]
    },
    {
      "cell_type": "markdown",
      "source": [
        "For Setup, I import all of the neccessary libraries that I need and load in my data set."
      ],
      "metadata": {
        "id": "udPFH5-UjHvG"
      }
    },
    {
      "cell_type": "code",
      "source": [
        "import pandas as pd\n",
        "import matplotlib.pyplot as plt\n",
        "import seaborn as sns"
      ],
      "metadata": {
        "id": "-7LsHyY7LzY0"
      },
      "execution_count": 67,
      "outputs": []
    },
    {
      "cell_type": "code",
      "source": [
        "voter_reg = pd.read_csv('https://raw.githubusercontent.com/fivethirtyeight/data/refs/heads/master/voter-registration/new-voter-registrations.csv')"
      ],
      "metadata": {
        "id": "M30_4DTPL82J"
      },
      "execution_count": 68,
      "outputs": []
    },
    {
      "cell_type": "markdown",
      "source": [
        "I've been hired to work with a government organizatrion interested in formation about voter registration in the US.\n",
        "\n",
        "The purpose of this project is to find relevant trands in voter registration to better allocate governemnt resources during certain times of the year throughout different stats.\n",
        "\n",
        "The goal of this project is to analyze the data we've been given by the governemnt organization and find relevant trends that can give us an idea about when and where federal funding supporting voter registration needs to go.\n",
        "\n",
        "This notebook is important for someone interested in seeing some of the trends relating to the 2016 and 2020 voter registration. It gives a good overview of the trends across the different years, months, and states.\n",
        "\n",
        "Q1): State: Do different states register voters more frequently in certain months than others?\n",
        "\n",
        "Q2): National: Distinction in Monthly Voter Registration Across different electoral years (2016 and 2020)"
      ],
      "metadata": {
        "id": "iZ4VV8pcP6h-"
      }
    },
    {
      "cell_type": "markdown",
      "source": [
        "Before I start digging into the deeper trends, I'd like to perform an exploratory data analysis."
      ],
      "metadata": {
        "id": "ExN1Y2VBjd-u"
      }
    },
    {
      "cell_type": "code",
      "source": [
        "voter_reg.head()"
      ],
      "metadata": {
        "id": "1RPDCiqdAJLS",
        "outputId": "4af13eec-d751-40cb-f181-8275fe8bf356",
        "colab": {
          "base_uri": "https://localhost:8080/",
          "height": 206
        }
      },
      "execution_count": 69,
      "outputs": [
        {
          "output_type": "execute_result",
          "data": {
            "text/plain": [
              "  Jurisdiction  Year Month  New registered voters\n",
              "0      Arizona  2016   Jan                  25852\n",
              "1      Arizona  2016   Feb                  51155\n",
              "2      Arizona  2016   Mar                  48614\n",
              "3      Arizona  2016   Apr                  30668\n",
              "4      Arizona  2020   Jan                  33229"
            ],
            "text/html": [
              "\n",
              "  <div id=\"df-0fbd5c3a-2f8a-4bea-9392-5c6870bb2d54\" class=\"colab-df-container\">\n",
              "    <div>\n",
              "<style scoped>\n",
              "    .dataframe tbody tr th:only-of-type {\n",
              "        vertical-align: middle;\n",
              "    }\n",
              "\n",
              "    .dataframe tbody tr th {\n",
              "        vertical-align: top;\n",
              "    }\n",
              "\n",
              "    .dataframe thead th {\n",
              "        text-align: right;\n",
              "    }\n",
              "</style>\n",
              "<table border=\"1\" class=\"dataframe\">\n",
              "  <thead>\n",
              "    <tr style=\"text-align: right;\">\n",
              "      <th></th>\n",
              "      <th>Jurisdiction</th>\n",
              "      <th>Year</th>\n",
              "      <th>Month</th>\n",
              "      <th>New registered voters</th>\n",
              "    </tr>\n",
              "  </thead>\n",
              "  <tbody>\n",
              "    <tr>\n",
              "      <th>0</th>\n",
              "      <td>Arizona</td>\n",
              "      <td>2016</td>\n",
              "      <td>Jan</td>\n",
              "      <td>25852</td>\n",
              "    </tr>\n",
              "    <tr>\n",
              "      <th>1</th>\n",
              "      <td>Arizona</td>\n",
              "      <td>2016</td>\n",
              "      <td>Feb</td>\n",
              "      <td>51155</td>\n",
              "    </tr>\n",
              "    <tr>\n",
              "      <th>2</th>\n",
              "      <td>Arizona</td>\n",
              "      <td>2016</td>\n",
              "      <td>Mar</td>\n",
              "      <td>48614</td>\n",
              "    </tr>\n",
              "    <tr>\n",
              "      <th>3</th>\n",
              "      <td>Arizona</td>\n",
              "      <td>2016</td>\n",
              "      <td>Apr</td>\n",
              "      <td>30668</td>\n",
              "    </tr>\n",
              "    <tr>\n",
              "      <th>4</th>\n",
              "      <td>Arizona</td>\n",
              "      <td>2020</td>\n",
              "      <td>Jan</td>\n",
              "      <td>33229</td>\n",
              "    </tr>\n",
              "  </tbody>\n",
              "</table>\n",
              "</div>\n",
              "    <div class=\"colab-df-buttons\">\n",
              "\n",
              "  <div class=\"colab-df-container\">\n",
              "    <button class=\"colab-df-convert\" onclick=\"convertToInteractive('df-0fbd5c3a-2f8a-4bea-9392-5c6870bb2d54')\"\n",
              "            title=\"Convert this dataframe to an interactive table.\"\n",
              "            style=\"display:none;\">\n",
              "\n",
              "  <svg xmlns=\"http://www.w3.org/2000/svg\" height=\"24px\" viewBox=\"0 -960 960 960\">\n",
              "    <path d=\"M120-120v-720h720v720H120Zm60-500h600v-160H180v160Zm220 220h160v-160H400v160Zm0 220h160v-160H400v160ZM180-400h160v-160H180v160Zm440 0h160v-160H620v160ZM180-180h160v-160H180v160Zm440 0h160v-160H620v160Z\"/>\n",
              "  </svg>\n",
              "    </button>\n",
              "\n",
              "  <style>\n",
              "    .colab-df-container {\n",
              "      display:flex;\n",
              "      gap: 12px;\n",
              "    }\n",
              "\n",
              "    .colab-df-convert {\n",
              "      background-color: #E8F0FE;\n",
              "      border: none;\n",
              "      border-radius: 50%;\n",
              "      cursor: pointer;\n",
              "      display: none;\n",
              "      fill: #1967D2;\n",
              "      height: 32px;\n",
              "      padding: 0 0 0 0;\n",
              "      width: 32px;\n",
              "    }\n",
              "\n",
              "    .colab-df-convert:hover {\n",
              "      background-color: #E2EBFA;\n",
              "      box-shadow: 0px 1px 2px rgba(60, 64, 67, 0.3), 0px 1px 3px 1px rgba(60, 64, 67, 0.15);\n",
              "      fill: #174EA6;\n",
              "    }\n",
              "\n",
              "    .colab-df-buttons div {\n",
              "      margin-bottom: 4px;\n",
              "    }\n",
              "\n",
              "    [theme=dark] .colab-df-convert {\n",
              "      background-color: #3B4455;\n",
              "      fill: #D2E3FC;\n",
              "    }\n",
              "\n",
              "    [theme=dark] .colab-df-convert:hover {\n",
              "      background-color: #434B5C;\n",
              "      box-shadow: 0px 1px 3px 1px rgba(0, 0, 0, 0.15);\n",
              "      filter: drop-shadow(0px 1px 2px rgba(0, 0, 0, 0.3));\n",
              "      fill: #FFFFFF;\n",
              "    }\n",
              "  </style>\n",
              "\n",
              "    <script>\n",
              "      const buttonEl =\n",
              "        document.querySelector('#df-0fbd5c3a-2f8a-4bea-9392-5c6870bb2d54 button.colab-df-convert');\n",
              "      buttonEl.style.display =\n",
              "        google.colab.kernel.accessAllowed ? 'block' : 'none';\n",
              "\n",
              "      async function convertToInteractive(key) {\n",
              "        const element = document.querySelector('#df-0fbd5c3a-2f8a-4bea-9392-5c6870bb2d54');\n",
              "        const dataTable =\n",
              "          await google.colab.kernel.invokeFunction('convertToInteractive',\n",
              "                                                    [key], {});\n",
              "        if (!dataTable) return;\n",
              "\n",
              "        const docLinkHtml = 'Like what you see? Visit the ' +\n",
              "          '<a target=\"_blank\" href=https://colab.research.google.com/notebooks/data_table.ipynb>data table notebook</a>'\n",
              "          + ' to learn more about interactive tables.';\n",
              "        element.innerHTML = '';\n",
              "        dataTable['output_type'] = 'display_data';\n",
              "        await google.colab.output.renderOutput(dataTable, element);\n",
              "        const docLink = document.createElement('div');\n",
              "        docLink.innerHTML = docLinkHtml;\n",
              "        element.appendChild(docLink);\n",
              "      }\n",
              "    </script>\n",
              "  </div>\n",
              "\n",
              "\n",
              "    <div id=\"df-76c3aad2-2867-4ae2-adc5-3a81d741610f\">\n",
              "      <button class=\"colab-df-quickchart\" onclick=\"quickchart('df-76c3aad2-2867-4ae2-adc5-3a81d741610f')\"\n",
              "                title=\"Suggest charts\"\n",
              "                style=\"display:none;\">\n",
              "\n",
              "<svg xmlns=\"http://www.w3.org/2000/svg\" height=\"24px\"viewBox=\"0 0 24 24\"\n",
              "     width=\"24px\">\n",
              "    <g>\n",
              "        <path d=\"M19 3H5c-1.1 0-2 .9-2 2v14c0 1.1.9 2 2 2h14c1.1 0 2-.9 2-2V5c0-1.1-.9-2-2-2zM9 17H7v-7h2v7zm4 0h-2V7h2v10zm4 0h-2v-4h2v4z\"/>\n",
              "    </g>\n",
              "</svg>\n",
              "      </button>\n",
              "\n",
              "<style>\n",
              "  .colab-df-quickchart {\n",
              "      --bg-color: #E8F0FE;\n",
              "      --fill-color: #1967D2;\n",
              "      --hover-bg-color: #E2EBFA;\n",
              "      --hover-fill-color: #174EA6;\n",
              "      --disabled-fill-color: #AAA;\n",
              "      --disabled-bg-color: #DDD;\n",
              "  }\n",
              "\n",
              "  [theme=dark] .colab-df-quickchart {\n",
              "      --bg-color: #3B4455;\n",
              "      --fill-color: #D2E3FC;\n",
              "      --hover-bg-color: #434B5C;\n",
              "      --hover-fill-color: #FFFFFF;\n",
              "      --disabled-bg-color: #3B4455;\n",
              "      --disabled-fill-color: #666;\n",
              "  }\n",
              "\n",
              "  .colab-df-quickchart {\n",
              "    background-color: var(--bg-color);\n",
              "    border: none;\n",
              "    border-radius: 50%;\n",
              "    cursor: pointer;\n",
              "    display: none;\n",
              "    fill: var(--fill-color);\n",
              "    height: 32px;\n",
              "    padding: 0;\n",
              "    width: 32px;\n",
              "  }\n",
              "\n",
              "  .colab-df-quickchart:hover {\n",
              "    background-color: var(--hover-bg-color);\n",
              "    box-shadow: 0 1px 2px rgba(60, 64, 67, 0.3), 0 1px 3px 1px rgba(60, 64, 67, 0.15);\n",
              "    fill: var(--button-hover-fill-color);\n",
              "  }\n",
              "\n",
              "  .colab-df-quickchart-complete:disabled,\n",
              "  .colab-df-quickchart-complete:disabled:hover {\n",
              "    background-color: var(--disabled-bg-color);\n",
              "    fill: var(--disabled-fill-color);\n",
              "    box-shadow: none;\n",
              "  }\n",
              "\n",
              "  .colab-df-spinner {\n",
              "    border: 2px solid var(--fill-color);\n",
              "    border-color: transparent;\n",
              "    border-bottom-color: var(--fill-color);\n",
              "    animation:\n",
              "      spin 1s steps(1) infinite;\n",
              "  }\n",
              "\n",
              "  @keyframes spin {\n",
              "    0% {\n",
              "      border-color: transparent;\n",
              "      border-bottom-color: var(--fill-color);\n",
              "      border-left-color: var(--fill-color);\n",
              "    }\n",
              "    20% {\n",
              "      border-color: transparent;\n",
              "      border-left-color: var(--fill-color);\n",
              "      border-top-color: var(--fill-color);\n",
              "    }\n",
              "    30% {\n",
              "      border-color: transparent;\n",
              "      border-left-color: var(--fill-color);\n",
              "      border-top-color: var(--fill-color);\n",
              "      border-right-color: var(--fill-color);\n",
              "    }\n",
              "    40% {\n",
              "      border-color: transparent;\n",
              "      border-right-color: var(--fill-color);\n",
              "      border-top-color: var(--fill-color);\n",
              "    }\n",
              "    60% {\n",
              "      border-color: transparent;\n",
              "      border-right-color: var(--fill-color);\n",
              "    }\n",
              "    80% {\n",
              "      border-color: transparent;\n",
              "      border-right-color: var(--fill-color);\n",
              "      border-bottom-color: var(--fill-color);\n",
              "    }\n",
              "    90% {\n",
              "      border-color: transparent;\n",
              "      border-bottom-color: var(--fill-color);\n",
              "    }\n",
              "  }\n",
              "</style>\n",
              "\n",
              "      <script>\n",
              "        async function quickchart(key) {\n",
              "          const quickchartButtonEl =\n",
              "            document.querySelector('#' + key + ' button');\n",
              "          quickchartButtonEl.disabled = true;  // To prevent multiple clicks.\n",
              "          quickchartButtonEl.classList.add('colab-df-spinner');\n",
              "          try {\n",
              "            const charts = await google.colab.kernel.invokeFunction(\n",
              "                'suggestCharts', [key], {});\n",
              "          } catch (error) {\n",
              "            console.error('Error during call to suggestCharts:', error);\n",
              "          }\n",
              "          quickchartButtonEl.classList.remove('colab-df-spinner');\n",
              "          quickchartButtonEl.classList.add('colab-df-quickchart-complete');\n",
              "        }\n",
              "        (() => {\n",
              "          let quickchartButtonEl =\n",
              "            document.querySelector('#df-76c3aad2-2867-4ae2-adc5-3a81d741610f button');\n",
              "          quickchartButtonEl.style.display =\n",
              "            google.colab.kernel.accessAllowed ? 'block' : 'none';\n",
              "        })();\n",
              "      </script>\n",
              "    </div>\n",
              "\n",
              "    </div>\n",
              "  </div>\n"
            ],
            "application/vnd.google.colaboratory.intrinsic+json": {
              "type": "dataframe",
              "variable_name": "voter_reg",
              "summary": "{\n  \"name\": \"voter_reg\",\n  \"rows\": 106,\n  \"fields\": [\n    {\n      \"column\": \"Jurisdiction\",\n      \"properties\": {\n        \"dtype\": \"category\",\n        \"num_unique_values\": 12,\n        \"samples\": [\n          \"Texas\",\n          \"North Carolina\",\n          \"Arizona\"\n        ],\n        \"semantic_type\": \"\",\n        \"description\": \"\"\n      }\n    },\n    {\n      \"column\": \"Year\",\n      \"properties\": {\n        \"dtype\": \"number\",\n        \"std\": 2,\n        \"min\": 2016,\n        \"max\": 2020,\n        \"num_unique_values\": 2,\n        \"samples\": [\n          2020,\n          2016\n        ],\n        \"semantic_type\": \"\",\n        \"description\": \"\"\n      }\n    },\n    {\n      \"column\": \"Month\",\n      \"properties\": {\n        \"dtype\": \"category\",\n        \"num_unique_values\": 5,\n        \"samples\": [\n          \"Feb\",\n          \"May\"\n        ],\n        \"semantic_type\": \"\",\n        \"description\": \"\"\n      }\n    },\n    {\n      \"column\": \"New registered voters\",\n      \"properties\": {\n        \"dtype\": \"number\",\n        \"std\": 48596,\n        \"min\": 589,\n        \"max\": 238281,\n        \"num_unique_values\": 106,\n        \"samples\": [\n          26239,\n          174278\n        ],\n        \"semantic_type\": \"\",\n        \"description\": \"\"\n      }\n    }\n  ]\n}"
            }
          },
          "metadata": {},
          "execution_count": 69
        }
      ]
    },
    {
      "cell_type": "code",
      "source": [
        "voter_reg.dtypes"
      ],
      "metadata": {
        "colab": {
          "base_uri": "https://localhost:8080/",
          "height": 210
        },
        "id": "7n0eAvbGSUlB",
        "outputId": "e521da6c-1a9e-4b00-f909-8a59d6fed43c"
      },
      "execution_count": 198,
      "outputs": [
        {
          "output_type": "execute_result",
          "data": {
            "text/plain": [
              "NAME                 object\n",
              "Year                  int64\n",
              "Month                object\n",
              "registered_voters     int64\n",
              "dtype: object"
            ],
            "text/html": [
              "<div>\n",
              "<style scoped>\n",
              "    .dataframe tbody tr th:only-of-type {\n",
              "        vertical-align: middle;\n",
              "    }\n",
              "\n",
              "    .dataframe tbody tr th {\n",
              "        vertical-align: top;\n",
              "    }\n",
              "\n",
              "    .dataframe thead th {\n",
              "        text-align: right;\n",
              "    }\n",
              "</style>\n",
              "<table border=\"1\" class=\"dataframe\">\n",
              "  <thead>\n",
              "    <tr style=\"text-align: right;\">\n",
              "      <th></th>\n",
              "      <th>0</th>\n",
              "    </tr>\n",
              "  </thead>\n",
              "  <tbody>\n",
              "    <tr>\n",
              "      <th>NAME</th>\n",
              "      <td>object</td>\n",
              "    </tr>\n",
              "    <tr>\n",
              "      <th>Year</th>\n",
              "      <td>int64</td>\n",
              "    </tr>\n",
              "    <tr>\n",
              "      <th>Month</th>\n",
              "      <td>object</td>\n",
              "    </tr>\n",
              "    <tr>\n",
              "      <th>registered_voters</th>\n",
              "      <td>int64</td>\n",
              "    </tr>\n",
              "  </tbody>\n",
              "</table>\n",
              "</div><br><label><b>dtype:</b> object</label>"
            ]
          },
          "metadata": {},
          "execution_count": 198
        }
      ]
    },
    {
      "cell_type": "markdown",
      "source": [
        "As we can see the data is comprised of 5 different columns w/ the following data types. Namely;\n",
        "1) Juridiction - the state of interest - object/string\n",
        "2) Year - the year of interest - int64\n",
        "3) Month - the month of interest - object/string\n",
        "4) New Registered Voters - the number of newly registered voters located in the juisdicitional state of interest during the respective year and month of interest. - int64"
      ],
      "metadata": {
        "id": "-N61uVyCOrFO"
      }
    },
    {
      "cell_type": "markdown",
      "source": [
        "I am now going to check the table to see if theres any empty/null values that I will have to deal with. As can be seen in the code cell below, there is no N/A cells in our dataframe."
      ],
      "metadata": {
        "id": "V4AdCw75iskT"
      }
    },
    {
      "cell_type": "code",
      "source": [
        "voter_reg.isna().sum()"
      ],
      "metadata": {
        "id": "ahhPKR5xAJ8D",
        "outputId": "d648c429-b219-4ed3-b9b2-d7a15f7ead07",
        "colab": {
          "base_uri": "https://localhost:8080/",
          "height": 210
        }
      },
      "execution_count": 70,
      "outputs": [
        {
          "output_type": "execute_result",
          "data": {
            "text/plain": [
              "Jurisdiction             0\n",
              "Year                     0\n",
              "Month                    0\n",
              "New registered voters    0\n",
              "dtype: int64"
            ],
            "text/html": [
              "<div>\n",
              "<style scoped>\n",
              "    .dataframe tbody tr th:only-of-type {\n",
              "        vertical-align: middle;\n",
              "    }\n",
              "\n",
              "    .dataframe tbody tr th {\n",
              "        vertical-align: top;\n",
              "    }\n",
              "\n",
              "    .dataframe thead th {\n",
              "        text-align: right;\n",
              "    }\n",
              "</style>\n",
              "<table border=\"1\" class=\"dataframe\">\n",
              "  <thead>\n",
              "    <tr style=\"text-align: right;\">\n",
              "      <th></th>\n",
              "      <th>0</th>\n",
              "    </tr>\n",
              "  </thead>\n",
              "  <tbody>\n",
              "    <tr>\n",
              "      <th>Jurisdiction</th>\n",
              "      <td>0</td>\n",
              "    </tr>\n",
              "    <tr>\n",
              "      <th>Year</th>\n",
              "      <td>0</td>\n",
              "    </tr>\n",
              "    <tr>\n",
              "      <th>Month</th>\n",
              "      <td>0</td>\n",
              "    </tr>\n",
              "    <tr>\n",
              "      <th>New registered voters</th>\n",
              "      <td>0</td>\n",
              "    </tr>\n",
              "  </tbody>\n",
              "</table>\n",
              "</div><br><label><b>dtype:</b> int64</label>"
            ]
          },
          "metadata": {},
          "execution_count": 70
        }
      ]
    },
    {
      "cell_type": "markdown",
      "source": [
        "To make my life a little easier when referencing the columns of the table, I am going to rename the 'jurisdiction' column to 'NAME' and the 'New registered voters' to 'registered_voters'"
      ],
      "metadata": {
        "id": "WqicEyDqlbDV"
      }
    },
    {
      "cell_type": "code",
      "source": [
        "voter_reg = voter_reg.rename(columns={'Jurisdiction':'NAME','New registered voters':'registered_voters'})"
      ],
      "metadata": {
        "id": "2nqFnsKOAMPQ"
      },
      "execution_count": 199,
      "outputs": []
    },
    {
      "cell_type": "markdown",
      "source": [
        "Limitation of My Data: <br>\n",
        "1) There are only 106 rows / lines of data in my DataFrame. This isn't a ton of data, making it difficult to find meaninful trends.\n",
        "2) As can be seen in the line of code below we must be aware that we are working specifically with data from 11 distinct states and 1 federal district ( The District of Columbia) - Additionally back to the first point there is only a few pieces of data for each of these locations. Also, most of these states are in the southern half of the US.\n",
        "3) We only have data on the electoral years of 2016 and 2020, during the electoral months of January (01) -May (05)"
      ],
      "metadata": {
        "id": "Py9UmmapRtrh"
      }
    },
    {
      "cell_type": "code",
      "source": [
        "voter_reg.NAME.unique()"
      ],
      "metadata": {
        "id": "VHjYY-JdAMfy",
        "outputId": "02ce0a33-d306-4fe0-8322-b19b9dc0eea7",
        "colab": {
          "base_uri": "https://localhost:8080/"
        }
      },
      "execution_count": 73,
      "outputs": [
        {
          "output_type": "execute_result",
          "data": {
            "text/plain": [
              "array(['Arizona', 'California', 'Colorado', 'Delaware',\n",
              "       'District of Columbia', 'Florida', 'Georgia', 'Illinois',\n",
              "       'Maryland', 'North Carolina', 'Texas', 'Virginia'], dtype=object)"
            ]
          },
          "metadata": {},
          "execution_count": 73
        }
      ]
    },
    {
      "cell_type": "code",
      "source": [
        "voter_reg.Year.unique()"
      ],
      "metadata": {
        "id": "oJXPtJLCUwvm",
        "outputId": "30df5085-88a8-4727-cd9e-b7a091fefcd4",
        "colab": {
          "base_uri": "https://localhost:8080/"
        }
      },
      "execution_count": 74,
      "outputs": [
        {
          "output_type": "execute_result",
          "data": {
            "text/plain": [
              "array([2016, 2020])"
            ]
          },
          "metadata": {},
          "execution_count": 74
        }
      ]
    },
    {
      "cell_type": "code",
      "source": [
        "voter_reg.Month.unique()"
      ],
      "metadata": {
        "id": "-xkqKrzTVEtc",
        "outputId": "561414ff-b9e3-4115-d388-fcd107123c45",
        "colab": {
          "base_uri": "https://localhost:8080/"
        }
      },
      "execution_count": 75,
      "outputs": [
        {
          "output_type": "execute_result",
          "data": {
            "text/plain": [
              "array(['Jan', 'Feb', 'Mar', 'Apr', 'May'], dtype=object)"
            ]
          },
          "metadata": {},
          "execution_count": 75
        }
      ]
    },
    {
      "cell_type": "markdown",
      "source": [
        "To continue my EDA, i want to get some quantitative figures relating to the data.\n",
        "\n",
        "As can be seen in the data below i get an idea on the distribution of the voter registration counts, specifically finding the max as well as a measure of central tendency, specifically\n",
        "\n",
        "I compute $$\\sum_{n\\in N}{\\text{registered_voters}_n}/N$$ where n is each of the rows in the data. I obtained that on average, approximately 48,200 people were newely registered voters per state per voting month.\n",
        ""
      ],
      "metadata": {
        "id": "_u3e0lxol9RU"
      }
    },
    {
      "cell_type": "code",
      "source": [
        "voter_reg.loc[voter_reg.registered_voters == voter_reg.registered_voters.max()]"
      ],
      "metadata": {
        "id": "G3LNBUyCANWX",
        "outputId": "bd05d07f-5de8-43b7-e242-70ee9a05bc31",
        "colab": {
          "base_uri": "https://localhost:8080/",
          "height": 81
        }
      },
      "execution_count": 76,
      "outputs": [
        {
          "output_type": "execute_result",
          "data": {
            "text/plain": [
              "          NAME  Year Month  registered_voters\n",
              "13  California  2020   Feb             238281"
            ],
            "text/html": [
              "\n",
              "  <div id=\"df-be6a4aa0-576d-4c2d-98cb-e2da5c5ca9ca\" class=\"colab-df-container\">\n",
              "    <div>\n",
              "<style scoped>\n",
              "    .dataframe tbody tr th:only-of-type {\n",
              "        vertical-align: middle;\n",
              "    }\n",
              "\n",
              "    .dataframe tbody tr th {\n",
              "        vertical-align: top;\n",
              "    }\n",
              "\n",
              "    .dataframe thead th {\n",
              "        text-align: right;\n",
              "    }\n",
              "</style>\n",
              "<table border=\"1\" class=\"dataframe\">\n",
              "  <thead>\n",
              "    <tr style=\"text-align: right;\">\n",
              "      <th></th>\n",
              "      <th>NAME</th>\n",
              "      <th>Year</th>\n",
              "      <th>Month</th>\n",
              "      <th>registered_voters</th>\n",
              "    </tr>\n",
              "  </thead>\n",
              "  <tbody>\n",
              "    <tr>\n",
              "      <th>13</th>\n",
              "      <td>California</td>\n",
              "      <td>2020</td>\n",
              "      <td>Feb</td>\n",
              "      <td>238281</td>\n",
              "    </tr>\n",
              "  </tbody>\n",
              "</table>\n",
              "</div>\n",
              "    <div class=\"colab-df-buttons\">\n",
              "\n",
              "  <div class=\"colab-df-container\">\n",
              "    <button class=\"colab-df-convert\" onclick=\"convertToInteractive('df-be6a4aa0-576d-4c2d-98cb-e2da5c5ca9ca')\"\n",
              "            title=\"Convert this dataframe to an interactive table.\"\n",
              "            style=\"display:none;\">\n",
              "\n",
              "  <svg xmlns=\"http://www.w3.org/2000/svg\" height=\"24px\" viewBox=\"0 -960 960 960\">\n",
              "    <path d=\"M120-120v-720h720v720H120Zm60-500h600v-160H180v160Zm220 220h160v-160H400v160Zm0 220h160v-160H400v160ZM180-400h160v-160H180v160Zm440 0h160v-160H620v160ZM180-180h160v-160H180v160Zm440 0h160v-160H620v160Z\"/>\n",
              "  </svg>\n",
              "    </button>\n",
              "\n",
              "  <style>\n",
              "    .colab-df-container {\n",
              "      display:flex;\n",
              "      gap: 12px;\n",
              "    }\n",
              "\n",
              "    .colab-df-convert {\n",
              "      background-color: #E8F0FE;\n",
              "      border: none;\n",
              "      border-radius: 50%;\n",
              "      cursor: pointer;\n",
              "      display: none;\n",
              "      fill: #1967D2;\n",
              "      height: 32px;\n",
              "      padding: 0 0 0 0;\n",
              "      width: 32px;\n",
              "    }\n",
              "\n",
              "    .colab-df-convert:hover {\n",
              "      background-color: #E2EBFA;\n",
              "      box-shadow: 0px 1px 2px rgba(60, 64, 67, 0.3), 0px 1px 3px 1px rgba(60, 64, 67, 0.15);\n",
              "      fill: #174EA6;\n",
              "    }\n",
              "\n",
              "    .colab-df-buttons div {\n",
              "      margin-bottom: 4px;\n",
              "    }\n",
              "\n",
              "    [theme=dark] .colab-df-convert {\n",
              "      background-color: #3B4455;\n",
              "      fill: #D2E3FC;\n",
              "    }\n",
              "\n",
              "    [theme=dark] .colab-df-convert:hover {\n",
              "      background-color: #434B5C;\n",
              "      box-shadow: 0px 1px 3px 1px rgba(0, 0, 0, 0.15);\n",
              "      filter: drop-shadow(0px 1px 2px rgba(0, 0, 0, 0.3));\n",
              "      fill: #FFFFFF;\n",
              "    }\n",
              "  </style>\n",
              "\n",
              "    <script>\n",
              "      const buttonEl =\n",
              "        document.querySelector('#df-be6a4aa0-576d-4c2d-98cb-e2da5c5ca9ca button.colab-df-convert');\n",
              "      buttonEl.style.display =\n",
              "        google.colab.kernel.accessAllowed ? 'block' : 'none';\n",
              "\n",
              "      async function convertToInteractive(key) {\n",
              "        const element = document.querySelector('#df-be6a4aa0-576d-4c2d-98cb-e2da5c5ca9ca');\n",
              "        const dataTable =\n",
              "          await google.colab.kernel.invokeFunction('convertToInteractive',\n",
              "                                                    [key], {});\n",
              "        if (!dataTable) return;\n",
              "\n",
              "        const docLinkHtml = 'Like what you see? Visit the ' +\n",
              "          '<a target=\"_blank\" href=https://colab.research.google.com/notebooks/data_table.ipynb>data table notebook</a>'\n",
              "          + ' to learn more about interactive tables.';\n",
              "        element.innerHTML = '';\n",
              "        dataTable['output_type'] = 'display_data';\n",
              "        await google.colab.output.renderOutput(dataTable, element);\n",
              "        const docLink = document.createElement('div');\n",
              "        docLink.innerHTML = docLinkHtml;\n",
              "        element.appendChild(docLink);\n",
              "      }\n",
              "    </script>\n",
              "  </div>\n",
              "\n",
              "\n",
              "    </div>\n",
              "  </div>\n"
            ],
            "application/vnd.google.colaboratory.intrinsic+json": {
              "type": "dataframe",
              "summary": "{\n  \"name\": \"voter_reg\",\n  \"rows\": 1,\n  \"fields\": [\n    {\n      \"column\": \"NAME\",\n      \"properties\": {\n        \"dtype\": \"string\",\n        \"num_unique_values\": 1,\n        \"samples\": [\n          \"California\"\n        ],\n        \"semantic_type\": \"\",\n        \"description\": \"\"\n      }\n    },\n    {\n      \"column\": \"Year\",\n      \"properties\": {\n        \"dtype\": \"number\",\n        \"std\": null,\n        \"min\": 2020,\n        \"max\": 2020,\n        \"num_unique_values\": 1,\n        \"samples\": [\n          2020\n        ],\n        \"semantic_type\": \"\",\n        \"description\": \"\"\n      }\n    },\n    {\n      \"column\": \"Month\",\n      \"properties\": {\n        \"dtype\": \"string\",\n        \"num_unique_values\": 1,\n        \"samples\": [\n          \"Feb\"\n        ],\n        \"semantic_type\": \"\",\n        \"description\": \"\"\n      }\n    },\n    {\n      \"column\": \"registered_voters\",\n      \"properties\": {\n        \"dtype\": \"number\",\n        \"std\": null,\n        \"min\": 238281,\n        \"max\": 238281,\n        \"num_unique_values\": 1,\n        \"samples\": [\n          238281\n        ],\n        \"semantic_type\": \"\",\n        \"description\": \"\"\n      }\n    }\n  ]\n}"
            }
          },
          "metadata": {},
          "execution_count": 76
        }
      ]
    },
    {
      "cell_type": "code",
      "source": [
        "reg_mean = float(voter_reg.registered_voters.mean())\n",
        "print(reg_mean)"
      ],
      "metadata": {
        "id": "ucc4lFmVAOPu",
        "outputId": "4f32686f-8e14-48e3-da7b-703a94d0f272",
        "colab": {
          "base_uri": "https://localhost:8080/"
        }
      },
      "execution_count": 77,
      "outputs": [
        {
          "output_type": "stream",
          "name": "stdout",
          "text": [
            "48223.46226415094\n"
          ]
        }
      ]
    },
    {
      "cell_type": "markdown",
      "source": [
        "For now I want to focus on the (state,month,year) pairs which have voter registration figures higher than the average. As can be seen in the cell below this has occured 36 times."
      ],
      "metadata": {
        "id": "iUBplzXkpeIM"
      }
    },
    {
      "cell_type": "code",
      "source": [
        "high_voters = voter_reg.loc[voter_reg.registered_voters > reg_mean]\n",
        "len(high_voters)"
      ],
      "metadata": {
        "id": "m9QSR3rKAO3D",
        "colab": {
          "base_uri": "https://localhost:8080/"
        },
        "outputId": "dcd0f934-cc3f-48a7-fcc2-e5ab6b124a5f"
      },
      "execution_count": 210,
      "outputs": [
        {
          "output_type": "execute_result",
          "data": {
            "text/plain": [
              "36"
            ]
          },
          "metadata": {},
          "execution_count": 210
        }
      ]
    },
    {
      "cell_type": "markdown",
      "source": [
        "\n",
        "Specifically though, some states had more voter registration counts above the mean than others, namely Texas, Florida, and California, as can be seen below.\n"
      ],
      "metadata": {
        "id": "skpwgqXwp8wA"
      }
    },
    {
      "cell_type": "code",
      "source": [
        "high_voters.value_counts('NAME')"
      ],
      "metadata": {
        "id": "t8pMfJfzAQl2",
        "colab": {
          "base_uri": "https://localhost:8080/",
          "height": 335
        },
        "outputId": "2543ba2f-e0fb-4c79-e517-f4f994bd2fb2"
      },
      "execution_count": 79,
      "outputs": [
        {
          "output_type": "execute_result",
          "data": {
            "text/plain": [
              "NAME\n",
              "Texas             8\n",
              "Florida           7\n",
              "California        7\n",
              "North Carolina    6\n",
              "Illinois          4\n",
              "Arizona           3\n",
              "Georgia           1\n",
              "Name: count, dtype: int64"
            ],
            "text/html": [
              "<div>\n",
              "<style scoped>\n",
              "    .dataframe tbody tr th:only-of-type {\n",
              "        vertical-align: middle;\n",
              "    }\n",
              "\n",
              "    .dataframe tbody tr th {\n",
              "        vertical-align: top;\n",
              "    }\n",
              "\n",
              "    .dataframe thead th {\n",
              "        text-align: right;\n",
              "    }\n",
              "</style>\n",
              "<table border=\"1\" class=\"dataframe\">\n",
              "  <thead>\n",
              "    <tr style=\"text-align: right;\">\n",
              "      <th></th>\n",
              "      <th>count</th>\n",
              "    </tr>\n",
              "    <tr>\n",
              "      <th>NAME</th>\n",
              "      <th></th>\n",
              "    </tr>\n",
              "  </thead>\n",
              "  <tbody>\n",
              "    <tr>\n",
              "      <th>Texas</th>\n",
              "      <td>8</td>\n",
              "    </tr>\n",
              "    <tr>\n",
              "      <th>Florida</th>\n",
              "      <td>7</td>\n",
              "    </tr>\n",
              "    <tr>\n",
              "      <th>California</th>\n",
              "      <td>7</td>\n",
              "    </tr>\n",
              "    <tr>\n",
              "      <th>North Carolina</th>\n",
              "      <td>6</td>\n",
              "    </tr>\n",
              "    <tr>\n",
              "      <th>Illinois</th>\n",
              "      <td>4</td>\n",
              "    </tr>\n",
              "    <tr>\n",
              "      <th>Arizona</th>\n",
              "      <td>3</td>\n",
              "    </tr>\n",
              "    <tr>\n",
              "      <th>Georgia</th>\n",
              "      <td>1</td>\n",
              "    </tr>\n",
              "  </tbody>\n",
              "</table>\n",
              "</div><br><label><b>dtype:</b> int64</label>"
            ]
          },
          "metadata": {},
          "execution_count": 79
        }
      ]
    },
    {
      "cell_type": "markdown",
      "source": [
        "In fact these 3 states also had the highest average voter registration."
      ],
      "metadata": {
        "id": "dGJ6ev0ihoek"
      }
    },
    {
      "cell_type": "code",
      "source": [
        "voter_reg.groupby('NAME').registered_voters.mean().sort_values(ascending=False).head(3)"
      ],
      "metadata": {
        "id": "3Lj3Gb7JARY0",
        "colab": {
          "base_uri": "https://localhost:8080/",
          "height": 210
        },
        "outputId": "0277a445-a80b-4da4-baee-ffe4408b305d"
      },
      "execution_count": 80,
      "outputs": [
        {
          "output_type": "execute_result",
          "data": {
            "text/plain": [
              "NAME\n",
              "California    144545.375\n",
              "Texas         114610.100\n",
              "Florida        65868.125\n",
              "Name: registered_voters, dtype: float64"
            ],
            "text/html": [
              "<div>\n",
              "<style scoped>\n",
              "    .dataframe tbody tr th:only-of-type {\n",
              "        vertical-align: middle;\n",
              "    }\n",
              "\n",
              "    .dataframe tbody tr th {\n",
              "        vertical-align: top;\n",
              "    }\n",
              "\n",
              "    .dataframe thead th {\n",
              "        text-align: right;\n",
              "    }\n",
              "</style>\n",
              "<table border=\"1\" class=\"dataframe\">\n",
              "  <thead>\n",
              "    <tr style=\"text-align: right;\">\n",
              "      <th></th>\n",
              "      <th>registered_voters</th>\n",
              "    </tr>\n",
              "    <tr>\n",
              "      <th>NAME</th>\n",
              "      <th></th>\n",
              "    </tr>\n",
              "  </thead>\n",
              "  <tbody>\n",
              "    <tr>\n",
              "      <th>California</th>\n",
              "      <td>144545.375</td>\n",
              "    </tr>\n",
              "    <tr>\n",
              "      <th>Texas</th>\n",
              "      <td>114610.100</td>\n",
              "    </tr>\n",
              "    <tr>\n",
              "      <th>Florida</th>\n",
              "      <td>65868.125</td>\n",
              "    </tr>\n",
              "  </tbody>\n",
              "</table>\n",
              "</div><br><label><b>dtype:</b> float64</label>"
            ]
          },
          "metadata": {},
          "execution_count": 80
        }
      ]
    },
    {
      "cell_type": "markdown",
      "source": [
        "Now I want to make some visualizations to be able to see the relationship between states and thier total registered voters. Doing this gives the federal government and idea of what states need more federal support to register the voters."
      ],
      "metadata": {
        "id": "IHKcWStbUtTj"
      }
    },
    {
      "cell_type": "code",
      "source": [
        "total_voter = voter_reg.groupby('NAME').registered_voters.sum().reset_index()\n"
      ],
      "metadata": {
        "id": "16LfXm8PATNM"
      },
      "execution_count": 211,
      "outputs": []
    },
    {
      "cell_type": "code",
      "source": [
        "sns.barplot(total_voter, x='NAME',y='registered_voters',legend=False,hue='registered_voters',palette='flare')\n",
        "plt.xlabel('State Names')\n",
        "plt.ylabel('Total Registered Voters in Millions')\n",
        "plt.xticks(rotation=-45, ha='left')\n",
        "plt.title('Relationship between States and their Total Registered Voters')\n",
        "plt.show()"
      ],
      "metadata": {
        "colab": {
          "base_uri": "https://localhost:8080/",
          "height": 580
        },
        "id": "WogFj0te12hH",
        "outputId": "d2ea905b-1fe6-4a18-cc42-3e4dad902f22"
      },
      "execution_count": 115,
      "outputs": [
        {
          "output_type": "display_data",
          "data": {
            "text/plain": [
              "<Figure size 640x480 with 1 Axes>"
            ],
            "image/png": "[encoded data removed]"
          },
          "metadata": {}
        }
      ]
    },
    {
      "cell_type": "markdown",
      "source": [
        "The most obvious trend that I see is that there is a direct correlation between the size of states and the number of registered voters. This communicated to the federal government that we will usually have to allocate more resources to voter registration in bigger states than in smaller ones, but this was probably already known. We also learned that historically across 2016 and 2020 combined, we haven't had to register more than 1.2M voters.  "
      ],
      "metadata": {
        "id": "N843aAVt6JGK"
      }
    },
    {
      "cell_type": "markdown",
      "source": [
        "To further explore my data, I want to see which months may require more attention and support depending on the number of voters we've had to register in the past."
      ],
      "metadata": {
        "id": "I_t_PGUcVXQP"
      }
    },
    {
      "cell_type": "code",
      "source": [
        "voter_reg\n",
        "year_month_reg = voter_reg.groupby(['Year','Month']).registered_voters.sum().reset_index()\n",
        "year_month_reg\n",
        "sns.barplot(year_month_reg, x='Year',y='registered_voters',hue='Month',palette='rocket')\n",
        "plt.xlabel('Year')\n",
        "plt.ylabel('Number of Registered Voters')\n",
        "plt.title('Registered Voters per month in 2016 vs 2020')\n",
        "\n",
        "plt.show()"
      ],
      "metadata": {
        "colab": {
          "base_uri": "https://localhost:8080/",
          "height": 472
        },
        "id": "IC2MYRcz_J9x",
        "outputId": "459a36e8-ba5e-4d9b-a699-bd8fe64562ab"
      },
      "execution_count": 182,
      "outputs": [
        {
          "output_type": "display_data",
          "data": {
            "text/plain": [
              "<Figure size 640x480 with 1 Axes>"
            ],
            "image/png": "[encoded data removed]"
          },
          "metadata": {}
        }
      ]
    },
    {
      "cell_type": "markdown",
      "source": [
        "The relationships which I see is initially, we only have registed voters during the months of Jan-May, being that these are voter registration months, and people can't register outside of these months. The biggest difference I notice is the disparity between the number of voters which registered in April in 2016 which was much higher than the number of voters which registered in April of 2020. I also noticed that in 2016, March has the highest count of registered voters while Feb has the 2nd highest. But in 2020, Feb has the highest, and March was 3rd highest. I finally notice that overall, the number of voters which registered in 2016 was larger overall than the number of voters which registered in 2020."
      ],
      "metadata": {
        "id": "ED2lPHA5FMYx"
      }
    },
    {
      "cell_type": "markdown",
      "source": [
        "Now I want to dive into my researh question I presented at the beginning."
      ],
      "metadata": {
        "id": "zpOJSKMFVuQ9"
      }
    },
    {
      "cell_type": "markdown",
      "source": [
        "State Level Research Question: Do different states register voters more frequently in certain months than others?"
      ],
      "metadata": {
        "id": "-vZFEz7o9DXN"
      }
    },
    {
      "cell_type": "code",
      "source": [
        "state_q = voter_reg.groupby(['NAME','Month']).sum().reset_index()\n",
        "state_q\n",
        "sns.barplot(state_q,x='NAME', y='registered_voters',hue='Month')\n",
        "plt.xlabel('State Name')\n",
        "plt.ylabel('Number of Registered Voters')\n",
        "plt.title('Monthly Voter Registration Across Different States')\n",
        "plt.xticks(rotation=-45, ha='left')\n",
        "plt.show()"
      ],
      "metadata": {
        "colab": {
          "base_uri": "https://localhost:8080/",
          "height": 565
        },
        "id": "0PVt0Cre9UeW",
        "outputId": "cc101890-a5a6-4d48-c9e9-e1bee7f44d66"
      },
      "execution_count": 197,
      "outputs": [
        {
          "output_type": "display_data",
          "data": {
            "text/plain": [
              "<Figure size 640x480 with 1 Axes>"
            ],
            "image/png": "[encoded data removed]"
          },
          "metadata": {}
        }
      ]
    },
    {
      "cell_type": "markdown",
      "source": [
        "Notice that In general, across all of the states, voter registration is most frequent in the months of February and March, with the lowest frequenct in (technically May) but also April. Also notice that some states don't even offer voters registration in the month of May. Finally in general, the relationships across that states follow a bimodal distribution with peaks at Feb and March."
      ],
      "metadata": {
        "id": "2nTXGbZ4I3Zm"
      }
    },
    {
      "cell_type": "markdown",
      "source": [
        "##Notebook Conclusion  (15 points)\n",
        "\n",
        "Write a conclusion section that includes\n",
        "* Insights: the insights/outcomes of your notebook (5 points)\n",
        "* Suggestions: Any suggestions or ideas you could offer your client (5 point)\n",
        "* Possible next steps: At least one step that you would take if continuing to work with this project (5 points)\n",
        "\n",
        "This should only be reflective of *your data* as presented here.\n",
        "\n",
        "\n",
        "Each section should be at least 3-4 complete sentences.\n"
      ],
      "metadata": {
        "id": "iHRHv-t14VI-"
      }
    },
    {
      "cell_type": "markdown",
      "source": [
        "Conclusion:\n",
        "\n",
        "Insights:\n",
        "The analysis which I've performed has provided insights to the trends between voter registration across different years, months, and states. Specifically, we've seen Larger States have a higher number of total registered voters. We've also seen that the number of registered voters in April dropped from 2016 to 2020. Finally, we've noticed that voter registration is most frequent in the months of February and March.\n",
        "\n",
        "Suggestions:\n",
        "My suggestions to my client would be to use my findings to decide how to allocate federal resources to support voter registration. Specifically I would advise my client to allocate resources more to larger states during the middle electoral months of February and March. Finally, I'd suggest that depending on voter registration trends during the early months, we'd have an idea about how much/how little remaining voters there are that require support registering.\n",
        "\n",
        "Possible Next steps:\n",
        "If I were to continue working on this analysis, I would attempt to get some more external data on these states, including the population size so that I could better support some of my arguments. I could also use this to keep track of the number of registered voters compared to the number of people in the state who still need to register, giving the federal governemnt and idea of what they will have to prepare for in the following months.Finally, I'd"
      ],
      "metadata": {
        "id": "Xjj4K7FVWSuf"
      }
    },
    {
      "cell_type": "markdown",
      "source": [
        "##Stakeholder Analysis(14 points as noted)\n",
        "*Loosely adapted from the [Cambridge Analytica/Facebook reveal](https://www.google.com/search?q=cambridge+analytica+facebook+&sca_esv=d43255849d412494&rlz=1C1ONGR_enUS1069US1069&sxsrf=AE3TifP9Zpi1D8vk3Z__wLxSQ-IMSAubZg%3A1758661179884&ei=OwrTaMHdNYmx5NoPkdTiqQY&ved=0ahUKEwiB56C34--PAxWJGFkFHRGqOGUQ4dUDCBA&uact=5&oq=cambridge+analytica+facebook+&gs_lp=Egxnd3Mtd2l6LXNlcnAiHWNhbWJyaWRnZSBhbmFseXRpY2EgZmFjZWJvb2sgMgoQIxiABBgnGIoFMgUQABiABDIIEAAYgAQYxwMyCBAAGIAEGMcDMggQABiABBjHAzIFEAAYgAQyCBAAGIAEGMcDMgYQABgWGB4yBhAAGBYYHjIGEAAYFhgeSJoJUI4DWI4DcAF4AZABAJgBa6ABa6oBAzAuMbgBA8gBAPgBAZgCAqAChAHCAgoQABiwAxjWBBhHmAMAiAYBkAYIkgcDMS4xoAelCLIHAzAuMbgHc8IHBTItMS4xyAcV&sclient=gws-wiz-serp) in 2018. While it is not necessary to look this up, it's always good to know*.\n",
        "\n",
        "All answers should be in full sentences and in a text box, not code.\n",
        "\n",
        "You work for a social media company which is currently allowing third party apps access to data through the use of an API; this means another company can create an app on your platform and acces the data of users who consent.\n",
        "\n",
        "One such company is a lobbying group. They create a third party app called \"Get Out and Vote!\" that asks users about their voter registration and other habits. While users of the app must give consent, the app also allows the lobbying group to collect data on the social media habits of the friends of those who consented to the app. While only only a few hundred thousand partake in the original app, the company is still able to collect from millions of users.\n",
        "\n",
        "They use this data to create personality profiles of unregistered voters. That data is then sold to specific political campaigns who use the information to create political ads that encourage people in populated US cities *not to vote* while creating ads that tell people in swing states *to vote*.\n",
        "\n",
        "While it is not necessary to do research on swing states, here is some information about the demographics of that if you are [curious](https://www.npr.org/2024/09/06/nx-s1-5101765/swing-states-demographics-electorate).\n"
      ],
      "metadata": {
        "id": "1d2JJW9lu1zz"
      }
    },
    {
      "cell_type": "markdown",
      "source": [
        "Identify a key ethical issue here, from the standpoint of the social media company (3 points)."
      ],
      "metadata": {
        "id": "vG6CQSbMcDVJ"
      }
    },
    {
      "cell_type": "markdown",
      "source": [
        "A key key ethical issue is the social media company is allowing the collection and use of personal data, going against privacy of the individuals using the app."
      ],
      "metadata": {
        "id": "oG418dtBcep2"
      }
    },
    {
      "cell_type": "markdown",
      "source": [
        "What are at least three of our ethical standards that apply to this situation, and why are they relevant (5 points)."
      ],
      "metadata": {
        "id": "3PQsxrlOcfbU"
      }
    },
    {
      "cell_type": "markdown",
      "source": [
        "- Respect for Privacy - users have a right to privacy of their information, and it shouldnt be shared without their consent\n",
        "- Transparency - it should be clear to the user who is having their data collected how their data is going to be used\n",
        "- Positive Impacy - the collected data is being use to manipulate behavior be discouraging groups from voting, this is harmful to democracy and there is no positive impact"
      ],
      "metadata": {
        "id": "0q88aNT6ctZG"
      }
    },
    {
      "cell_type": "markdown",
      "source": [
        "Your company wants to continue work with the lobbying firm and does not want to lose them as a client. Looking at this from a *utilitarian ethics* standpoint, propose an alternative action that allows you to work with them while still addressing the ethical issue you mentioned above (6 points).\n",
        "\n"
      ],
      "metadata": {
        "id": "n4RGQGouc1YY"
      }
    },
    {
      "cell_type": "markdown",
      "source": [
        "From a utilitarian standpoing, the best solution would be to maximize benefit over harm. The company could restrict data sharing unless specified by the user and consent was given. Without collecting from friends witout permission, there should be transparency. This allows the lobbying firm to conduct outreach without infringing upon user autonomy"
      ],
      "metadata": {
        "id": "ygzoqcxcdiHV"
      }
    },
    {
      "cell_type": "markdown",
      "source": [
        "##Github (3 points)\n",
        "Post this to your Github and include the accessible link either here or on brightspace."
      ],
      "metadata": {
        "id": "JN7PjbbV7kUB"
      }
    },
    {
      "cell_type": "markdown",
      "source": [
        "###You can also find my project in my [github](https://github.com/stoicelephant/DIDA325/blob/main/325_Fall_Midterm_Project.ipynb)"
      ],
      "metadata": {
        "id": "6dpFQOr6aqNS"
      }
    },
    {
      "cell_type": "markdown",
      "source": [
        "# Academic Integrity Statement\n",
        "\n",
        "By writing my name in the cell below, I certify that:\n",
        "\n",
        "1. I did not use resources other than:\n",
        "   * the Python notebooks provided by the instructor,\n",
        "   * links provided in this notebook,\n",
        "   * the assigned readings, and\n",
        "   * my own personal notes\n",
        "2. This means that I did not:\n",
        "   * look up anything on Google, or Stack Overflow, Chatgpt, &c.,\n",
        "   * discuss the content of the exam with *anyone* other than the instructors or TAs, or\n",
        "   * do anything that technically doen't break these rules but is against their spirit."
      ],
      "metadata": {
        "id": "OX_8cUSY8cQe"
      }
    },
    {
      "cell_type": "markdown",
      "source": [
        "JAMES GIUFFRE"
      ],
      "metadata": {
        "id": "9XMfB5H_Hnlz"
      }
    }
  ]
}