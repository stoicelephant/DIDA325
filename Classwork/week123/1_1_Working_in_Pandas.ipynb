{
  "cells": [
    {
      "cell_type": "markdown",
      "metadata": {
        "colab_type": "text",
        "id": "view-in-github"
      },
      "source": [
        "<a href=\"https://colab.research.google.com/github/stoicelephant/DIDA325/blob/main/1_1_Working_in_Pandas.ipynb\" target=\"_parent\"><img src=\"https://colab.research.google.com/assets/colab-badge.svg\" alt=\"Open In Colab\"/></a>"
      ]
    },
    {
      "cell_type": "markdown",
      "metadata": {
        "id": "7FmSg60DudHL"
      },
      "source": [
        "# Vocab\n",
        "**DataFrame**. A pandas object representing structured data.\n",
        "\n",
        "**module**. A module extends what you can do in Python, usually by adding additional functions that can be called, but can contain data, and other things as well (your instructor isn't sure on that last part, but is being safe by including it).\n",
        "\n",
        "**Series**. A pandas object representing a single column of a DataFrame. Some functions (like .count_values()) return Series instead of DataFrames.\n",
        "\n",
        "**structured data**. Data which is organized into rows and columns, like a spreadsheet. Every column of structured data must have a single data type.\n",
        "\n",
        "#Importing Modules\n",
        "The code below imports the pandas module, allowing us to make use of more powerful data-manipulating functions and types of objects. We are binding it to a nickname of pd, which means that our function calls will be written as pd.function_name().\n",
        "\n",
        "With pandas, we'll be able to do things like:\n",
        "\n",
        "* select and delete columns\n",
        "* include and exclude rows\n",
        "* basic descriptive stats functions\n",
        "* create new columns/modify old ones\n",
        "* group data by categorical values\n",
        "* reorder the rows\n",
        "\n",
        "\n",
        "\n",
        "\n",
        "\n"
      ]
    },
    {
      "cell_type": "code",
      "execution_count": null,
      "metadata": {
        "id": "bXtpAwE9Daau"
      },
      "outputs": [
        {
          "ename": "",
          "evalue": "",
          "output_type": "error",
          "traceback": [
            "\u001b[1;31mRunning cells with 'Python 3.11.2' requires the ipykernel package.\n",
            "\u001b[1;31m<a href='command:jupyter.createPythonEnvAndSelectController'>Create a Python Environment</a> with the required packages.\n",
            "\u001b[1;31mOr install 'ipykernel' using the command: '/usr/bin/python3 -m pip install ipykernel -U --user --force-reinstall'"
          ]
        }
      ],
      "source": [
        "import pandas as pd"
      ]
    },
    {
      "cell_type": "markdown",
      "metadata": {
        "id": "jUxhVpYErte-"
      },
      "source": [
        "Running the above code will not show you anything. If you want to check that it has uploaded into your library, you can do:"
      ]
    },
    {
      "cell_type": "code",
      "execution_count": null,
      "metadata": {
        "id": "dUJnuxhDry6K"
      },
      "outputs": [],
      "source": [
        "!pip list"
      ]
    },
    {
      "cell_type": "markdown",
      "metadata": {
        "id": "jdUfDEvHDN_7"
      },
      "source": [
        "\n",
        "#Importing Data\n",
        "\n",
        "There are a few ways to upload data into colab. The two we will most most likely be using are direct file uploads from your computer and from Github.\n",
        "\n",
        "### Uploading Files"
      ]
    },
    {
      "cell_type": "code",
      "execution_count": null,
      "metadata": {
        "id": "CC7LGAYyC3nl"
      },
      "outputs": [],
      "source": [
        "from google.colab import files\n",
        "\n",
        "uploaded = files.upload()\n",
        "#you can also just drag a file into your 'files' tab on the left"
      ]
    },
    {
      "cell_type": "markdown",
      "metadata": {
        "id": "iZ0GypYk4tGu"
      },
      "source": [
        "Colab does not store whatever files you're working with after your initial session; you will have to reupload the data every time you open your session but you will not have to rerun all of your code."
      ]
    },
    {
      "cell_type": "markdown",
      "metadata": {
        "id": "amx-nIjnC8qj"
      },
      "source": [
        "### Github\n",
        "\n",
        "We are uploading many of our files direclty from Github. This is a data/code repository that we'll be returning to thorughout the semester.\n",
        "\n",
        "To get datasets from here all we need to do is pass the link through.\n",
        "\n",
        "*Note what I named my variable here--do not name any variables \"df\".*"
      ]
    },
    {
      "cell_type": "code",
      "execution_count": null,
      "metadata": {
        "id": "sSmBxgAaC8Ot"
      },
      "outputs": [],
      "source": [
        "holc = pd.read_csv(\"https://raw.githubusercontent.com/fivethirtyeight/data/master/redlining/metro-grades.csv\")"
      ]
    },
    {
      "cell_type": "markdown",
      "metadata": {
        "id": "L30q9sQz5tlR"
      },
      "source": [
        "#Redlining\n",
        "We now have a dataframe ('holc') in our notebook. But we have no idea what this dataframe is.\n",
        "\n",
        "The data that we will be working with for the next few weeks is information about redlining practiices in the United States. Back during the New Deal of the 1930s, there was a housing shortage, and the Home-Owner's Loan Corporation (HOLC) was formed by the U.S. government to make housing more attainable by working-class and middle-class (but not poor) families. As part of that work, they graded neighborhoods on their perceived risk of failure to repay a loan, from \"A\", the best grade colored green on the maps to \"D\", deemed \"hazardous\" and colored red, and thus called \"redlining.\" Mitigating loan risk is not bad in and of itself, but the HOLC's policies were explicitly racist: they gave guidance that \"incompatible racial groups should not be permitted to live in the same communities\" and were built on the belief that \"the presence of any population of Black residents was a sign of impending property value decline.\" (Jackson 2021). Loans were systematically denied to Black families, especially if they were attempting to buy homes in white neighborhoods. Later, private banks used the maps produced by the HOLC and perpetuated these practices.\n",
        "\n",
        "While redlining is now illegal—and has been for over 50 years—we can still see patterns of segregation enacted and reinforced by the HOLC in the 1930s.\n",
        "\n",
        "##### References:\n",
        "* This dataset was used in the FiveThirtyEight article [\"The Lasting Legacy of Redlining\"](https://projects.fivethirtyeight.com/redlining/) by Ryan Best and Elena Mejía.\n",
        "* The data is a processed version of that collected by the [Mapping Inequality](https://dsl.richmond.edu/panorama/redlining/) project.\n",
        "* The NPR article [\"A 'Forgotten History' of how the U.S. Government Segregated America\"](https://www.npr.org/2017/05/03/526655831/a-forgotten-history-of-how-the-u-s-government-segregated-america) by Terry Gross.\n",
        "* The New York Times article [\"What is Redlining\"](https://www.nytimes.com/2021/08/17/realestate/what-is-redlining.html) by Candace Jackson\n",
        "* An article on a [settlement related to recent redlining practices](https://www.washingtonpost.com/business/2022/07/27/berkshire-hathaway-trident-redlining/) by Hamza Shaban in the Washington Post.\n"
      ]
    },
    {
      "cell_type": "markdown",
      "metadata": {
        "id": "9fV68N9X6Weo"
      },
      "source": [
        "#Starting with Data\n",
        "\n",
        "The pandas module contains many functions for loading and manipulating **structured** data. With the code above, we now have our data stored into a variable called \"holc\".That variable is actually a **DataFrame** that contains everything the holc.csv file has.\n"
      ]
    },
    {
      "cell_type": "code",
      "execution_count": null,
      "metadata": {
        "id": "HIQC7n8KxneI"
      },
      "outputs": [],
      "source": [
        "holc.info()"
      ]
    },
    {
      "cell_type": "markdown",
      "metadata": {
        "id": "ZErJXbs0xu1Z"
      },
      "source": [
        "This has told us a lot about our data; we have the **range** of entries (551) and the number of columns (28). The latter is useful to know becaues we don't always see all of our columns.\n",
        "\n",
        "We can also see if there are any null values (which we'll come back to) and what the type of data in that column is."
      ]
    },
    {
      "cell_type": "markdown",
      "metadata": {
        "id": "Bl8aNE9zyDhm"
      },
      "source": [
        "This is good way to start if you know absolutely nothing about the data. More often that not, however, you'll probably know something about the data you're working with. In that case, you'll probably start with the following steps.\n",
        "\n"
      ]
    },
    {
      "cell_type": "markdown",
      "metadata": {
        "id": "Oj1LPgxwxrKJ"
      },
      "source": [
        "Check the **head** of the data. This allows us a view of the first few rows of the dataset. We can use this to check if there are any mistakes."
      ]
    },
    {
      "cell_type": "code",
      "execution_count": null,
      "metadata": {
        "id": "_QPN-rnW6tA9"
      },
      "outputs": [],
      "source": [
        "holc.head()"
      ]
    },
    {
      "cell_type": "markdown",
      "metadata": {
        "id": "w_AA654T6urX"
      },
      "source": [
        "Just using the `.head()` will only show us five rows at a time. If we want to see more/less than that, we have to indicate that in the code.\n",
        "\n"
      ]
    },
    {
      "cell_type": "code",
      "execution_count": null,
      "metadata": {
        "id": "COL83PpFtHVa"
      },
      "outputs": [],
      "source": [
        "holc.head(2) # in the () you'll pass through whatever amount you want to see"
      ]
    },
    {
      "cell_type": "markdown",
      "metadata": {
        "id": "-sXlL9G_tWPX"
      },
      "source": [
        "Each column of a DataFrame must have a single data type. We can check what type each column is with its `dtypes` attribute. Note that `dtypes` is not a function, and so is not followed by parentheses.\n",
        "\n",
        "The four data types you're likely to encounter with Pandas are:\n",
        "* **int64** for integers.\n",
        "* **float64** for floating-point (decimal) values.\n",
        "* **datetime64** for dates and times.\n",
        "* **object** for anything else. This is what you'll see for strings."
      ]
    },
    {
      "cell_type": "code",
      "execution_count": null,
      "metadata": {
        "id": "NH517MmqtbY2"
      },
      "outputs": [],
      "source": [
        "holc.dtypes #this is important--something may have imported wrong and we need to change it"
      ]
    },
    {
      "cell_type": "markdown",
      "metadata": {
        "id": "lVto6xeJ8Xbr"
      },
      "source": [
        "We can also get a list of all the column names; this is **extremely useful** if there are odd spellings/puncutations, etc.\n"
      ]
    },
    {
      "cell_type": "code",
      "execution_count": null,
      "metadata": {
        "id": "e_CXTPtA8mv9"
      },
      "outputs": [],
      "source": [
        "holc.columns"
      ]
    },
    {
      "cell_type": "markdown",
      "metadata": {
        "id": "yGpyymKXytcL"
      },
      "source": [
        "### Removing \"N.A\"s.\n",
        "\n",
        "You will, almost never, get a perfect data set. Sometimes data gets uploaded as the wrong data type (you need an integer and it reads as an object), sometimes string data gets real funky, and sometimes data is simply not there.\n",
        "\n",
        "Missing data is writen as \"N.A\" (Not Available). This is not a value of 0, but data that is not there, like a blank in the excel sheet. It's important to know that we have missing data because this can mean that something wasn't counted or that someone's point of view is missing. But having missing data may stop some of our code from working so we need to address that.\n",
        "\n",
        "Check for missing data:\n"
      ]
    },
    {
      "cell_type": "code",
      "execution_count": null,
      "metadata": {
        "id": "hy0TIrttytcR"
      },
      "outputs": [],
      "source": [
        "holc.isna()"
      ]
    },
    {
      "cell_type": "markdown",
      "metadata": {
        "id": "ThC4d7tJ9mHe"
      },
      "source": [
        "We would be looking for any columns showing up as \"true\" to indicate that, yes, it is true that there is missing data.\n",
        "\n",
        "We can also check this easily by asking if there are any **values** that are equal to \"null\" (N.A)."
      ]
    },
    {
      "cell_type": "code",
      "execution_count": null,
      "metadata": {
        "id": "azl9nlIh-LFi"
      },
      "outputs": [],
      "source": [
        "holc.isna().values.any()"
      ]
    },
    {
      "cell_type": "markdown",
      "metadata": {
        "id": "DXCcEW8F7s6f"
      },
      "source": [
        "Or, more efficently, you can easily check the total number of null values for every column."
      ]
    },
    {
      "cell_type": "code",
      "execution_count": null,
      "metadata": {
        "id": "24-1aMcE7ay_"
      },
      "outputs": [],
      "source": [
        "holc.isnull().sum()"
      ]
    },
    {
      "cell_type": "markdown",
      "metadata": {
        "id": "Fnm-Kl5nytcS"
      },
      "source": [
        "We're lucky--this one has been thorougly cleaned so there is no missing data. However, if there were missing data we would need to drop it before doing any further work."
      ]
    },
    {
      "cell_type": "code",
      "execution_count": null,
      "metadata": {
        "id": "jDVnw9GtytcS"
      },
      "outputs": [],
      "source": [
        "holc.dropna()"
      ]
    },
    {
      "cell_type": "markdown",
      "metadata": {
        "id": "kR49m09WyxM0"
      },
      "source": [
        "Just dropping the NA data will not fully get rid of it. To get rid of it for good, we need to create a clean dataframe.\n",
        "\n",
        "In our case we don't really need to do this but if you are, I recommend renaming the dataframe. If you just name the clean dataframe the same as the original then you override the original data frame."
      ]
    },
    {
      "cell_type": "markdown",
      "metadata": {
        "id": "2me7cC1KytcS"
      },
      "source": [
        "###Replacing Missing Data\n",
        "\n",
        "This should only be done under very specific circumstances because otherwise you will be severely skewing any results.But if you do need to replace missing data:"
      ]
    },
    {
      "cell_type": "code",
      "execution_count": null,
      "metadata": {
        "id": "EiXQeMUxytcS"
      },
      "outputs": [],
      "source": [
        "holc.fillna(0)"
      ]
    },
    {
      "cell_type": "markdown",
      "metadata": {
        "id": "jgf-0dVRAsE-"
      },
      "source": [
        "Maybe we have a dataset where one column is all/largely missing data. We could make the decision to just drop that column entirely."
      ]
    },
    {
      "cell_type": "code",
      "execution_count": null,
      "metadata": {
        "id": "vWwLeR7fGYvu"
      },
      "outputs": [],
      "source": [
        "holc.head()"
      ]
    },
    {
      "cell_type": "code",
      "execution_count": null,
      "metadata": {
        "id": "5bowJ_0KA3Yp"
      },
      "outputs": [],
      "source": [
        "holc = holc.drop(columns=[\"other_pop\"])"
      ]
    },
    {
      "cell_type": "markdown",
      "metadata": {
        "id": "Zf1ZLktVADFH"
      },
      "source": [
        "##Summary Functions\n",
        "We have a clean dataset, and we have some context about it. But we don't really know the basics of it so let's start with our summary functions."
      ]
    },
    {
      "cell_type": "code",
      "execution_count": null,
      "metadata": {
        "id": "llCX1oXSAQb8"
      },
      "outputs": [],
      "source": [
        "holc.describe()"
      ]
    },
    {
      "cell_type": "markdown",
      "metadata": {
        "id": "3bigtBuuATu3"
      },
      "source": [
        "We have some really big numbers here, so it gets clunky, but now we can start to have an overall few of some major aspects of the dataset--such as the highest/lowest numbers, the averages, and the standard deviation (which will come back to).\n",
        "\n",
        "It can helpful to start with this as a way to get the 'lay of the land' for a dataset."
      ]
    },
    {
      "cell_type": "markdown",
      "metadata": {
        "id": "TNo8_M72uPN8"
      },
      "source": [
        "###Selecting Columns\n",
        "\n",
        "Say we want to look at just one column--to do this we **index** the column using the column name.\n",
        "\n",
        "Where we use `[]` and `()` in Pandas can get really annoying. Remember: we use a `()` to call forth a function and we pass an argument through that `()`, such as `head`.\n",
        "\n",
        "The `[]` is used to index/slice/select a specific part of the dataset. We'll do this first with a column name. We want to just look at the metro area column.\n",
        "\n",
        "We also need either a single or double quotation around the column name. It does not matter what you use.\n",
        "\n",
        "*Spelling, punctation, etc. are extremely important. If you type the column name even just a little wrong it will not find it. This is why I always print out the columns names somewhere.*"
      ]
    },
    {
      "cell_type": "code",
      "execution_count": null,
      "metadata": {
        "id": "0hap-Z3YB0T9"
      },
      "outputs": [],
      "source": [
        "holc.columns"
      ]
    },
    {
      "cell_type": "code",
      "execution_count": null,
      "metadata": {
        "id": "dfXyqdvbBF4u"
      },
      "outputs": [],
      "source": [
        "holc[\"metro_area\"]"
      ]
    },
    {
      "cell_type": "markdown",
      "metadata": {
        "id": "6Jh-Q8CtCJz-"
      },
      "source": [
        "You can also use a `.` rather than the `[]` but this becomes impractical when you're adding more functions."
      ]
    },
    {
      "cell_type": "code",
      "execution_count": null,
      "metadata": {
        "id": "XrMQFeyxCL8w"
      },
      "outputs": [],
      "source": [
        "holc.metro_area"
      ]
    },
    {
      "cell_type": "markdown",
      "metadata": {
        "id": "AtShqbh7yI96"
      },
      "source": [
        "To look at multiple columns, we need to put them in a **list**. I'm going to do this two ways."
      ]
    },
    {
      "cell_type": "code",
      "execution_count": null,
      "metadata": {
        "id": "NcQV86lxCnFW"
      },
      "outputs": [],
      "source": [
        "columns=[\"metro_area\",\"holc_grade\"]\n",
        "holc[columns].head()"
      ]
    },
    {
      "cell_type": "markdown",
      "metadata": {
        "id": "eKX2ZE8jvmTE"
      },
      "source": [
        "Or, we can do this in a single step."
      ]
    },
    {
      "cell_type": "code",
      "execution_count": null,
      "metadata": {
        "id": "q8zsvWzoC5xK"
      },
      "outputs": [],
      "source": [
        "holc[[\"metro_area\",\"holc_grade\"]]"
      ]
    },
    {
      "cell_type": "code",
      "execution_count": null,
      "metadata": {
        "id": "2wDAksMf8tgm"
      },
      "outputs": [],
      "source": [
        "holc[[\"metro_area\",\"holc_grade\"]].head(2)"
      ]
    },
    {
      "cell_type": "markdown",
      "metadata": {
        "id": "cT1wUl6aC8wn"
      },
      "source": [
        "Notice that I have two sets of brackets above--it's so the code knows we are working with a list.\n",
        "\n",
        "*You don't need to add a new bracket if you're dealing with three or four columns; just the double is fine*."
      ]
    },
    {
      "cell_type": "markdown",
      "metadata": {
        "id": "RuMWSIFODVZs"
      },
      "source": [
        "Maybe we want everything except a certain column--we've decided that we don't need the `metro_area` column, for example."
      ]
    },
    {
      "cell_type": "code",
      "execution_count": null,
      "metadata": {
        "id": "h5Xd9nyhDki6"
      },
      "outputs": [],
      "source": [
        "holc.drop(\"metro_area\",axis=1)"
      ]
    },
    {
      "cell_type": "markdown",
      "metadata": {
        "id": "Rcw_dkDQytWF"
      },
      "source": [
        "###Rows\n",
        "That is for selecting columns. Let's say we instead want to find the rows with all the grades of a `D`.\n",
        "\n",
        "To index particular rows, we need to index them using **Boolean logic**--is this true or not. Unfortunately, we also use `[]` for this, not parenthesis.\n",
        "\n",
        "So, we're looking for everything in our holc_grade that **is equal** to the letter grade D. That means we need a `==`."
      ]
    },
    {
      "cell_type": "code",
      "execution_count": null,
      "metadata": {
        "id": "06Tb_Tf_5ol6"
      },
      "outputs": [],
      "source": [
        "holc[\"holc_grade\"]==\"D\""
      ]
    },
    {
      "cell_type": "markdown",
      "metadata": {
        "id": "xctqglMfzEb2"
      },
      "source": [
        "This gives us a list of values which is *True* whenever the grade is D and *False* whenever it is not.\n",
        "\n",
        "This list can then be passed to our original DataFrame, using `DataFrame.loc[]`, which takes in such a list of *True/False* values as an index."
      ]
    },
    {
      "cell_type": "code",
      "execution_count": null,
      "metadata": {
        "id": "fnzzvuTd6C98"
      },
      "outputs": [],
      "source": [
        "holc.loc[holc.holc_grade==\"D\"]"
      ]
    },
    {
      "cell_type": "markdown",
      "metadata": {
        "id": "oeNeDgnJ6Qkj"
      },
      "source": [
        "We can also use our comparators. Let's find every area that had a population where over 30% of its residents were Black."
      ]
    },
    {
      "cell_type": "code",
      "execution_count": null,
      "metadata": {
        "id": "1NbHh9db6cvQ"
      },
      "outputs": [],
      "source": [
        "holc.loc[holc.pct_black>=30]"
      ]
    },
    {
      "cell_type": "markdown",
      "metadata": {
        "id": "pSRN5pVszrqX"
      },
      "source": [
        "We can combine logical statements with logical the *and* `&` or *or* `|` operators.\n",
        "\n",
        "Did any place have over 30% of it's population was Black and they got a C?"
      ]
    },
    {
      "cell_type": "code",
      "execution_count": null,
      "metadata": {
        "id": "j2hsi39_66wA"
      },
      "outputs": [],
      "source": [
        "holc.loc[holc.pct_black>=30].loc[holc.holc_grade==\"C\"]"
      ]
    },
    {
      "cell_type": "markdown",
      "metadata": {
        "id": "J_VPjiz07DtK"
      },
      "source": [
        "Try the same code but see if any of the areas with over 30% of its population as Black had a B grade, then an A grade."
      ]
    },
    {
      "cell_type": "code",
      "execution_count": null,
      "metadata": {
        "collapsed": true,
        "id": "smfClWGv7NcH"
      },
      "outputs": [],
      "source": []
    },
    {
      "cell_type": "code",
      "execution_count": null,
      "metadata": {
        "id": "OHA7JZ7OZXct"
      },
      "outputs": [],
      "source": []
    },
    {
      "cell_type": "markdown",
      "metadata": {
        "id": "AgghT_n07Mfy"
      },
      "source": [
        "An easier way might be to find everything that was not a D grade. To do that, we use a `!=` which means \"not equal to\"."
      ]
    },
    {
      "cell_type": "code",
      "execution_count": null,
      "metadata": {
        "id": "l6uHpCIE7Vlm"
      },
      "outputs": [],
      "source": []
    },
    {
      "cell_type": "markdown",
      "metadata": {
        "id": "B1p8X1lT09yg"
      },
      "source": [
        "If we're looking for just one of these statistics, you can use `DataFrame.count()`, `.mean()`, `.median()`, `.min()`, `.max()` and so on. There are many more, which aren't included in the output of `.describe()`, like `DataFrame.sum()`.\n",
        "\n",
        "What is the average Black population in a neighborhood?"
      ]
    },
    {
      "cell_type": "code",
      "execution_count": null,
      "metadata": {
        "id": "uh3L5cat7ln2"
      },
      "outputs": [],
      "source": [
        "holc[\"black_pop\"].mean()"
      ]
    },
    {
      "cell_type": "markdown",
      "metadata": {
        "id": "TDm4_OLT2HUz"
      },
      "source": [
        "We can find min and max values too."
      ]
    },
    {
      "cell_type": "code",
      "execution_count": null,
      "metadata": {
        "id": "FlQ6QlrB7yOx"
      },
      "outputs": [],
      "source": [
        "holc.black_pop.max()"
      ]
    },
    {
      "cell_type": "code",
      "execution_count": null,
      "metadata": {
        "id": "Fk6zZmLW08ql"
      },
      "outputs": [],
      "source": [
        "holc.black_pop.min()"
      ]
    },
    {
      "cell_type": "markdown",
      "metadata": {
        "id": "BpJWJuii75lA"
      },
      "source": [
        "That's interesting! This is where we can start asking questions from our data.\n",
        "\n",
        "What neighborhood had a black population of one?\n",
        "\n",
        "To find that, we need to combine the previous code with filtering out rows."
      ]
    },
    {
      "cell_type": "code",
      "execution_count": null,
      "metadata": {
        "id": "8zFLNU618RW2"
      },
      "outputs": [],
      "source": [
        "holc.loc[holc.black_pop==holc.black_pop.min()]"
      ]
    },
    {
      "cell_type": "markdown",
      "metadata": {
        "id": "WLYMhCUb1PmR"
      },
      "source": [
        "For any of these to work, we have to be using numeric (int64 and float 64) columns. What happens if we try to do this on string data?"
      ]
    },
    {
      "cell_type": "code",
      "execution_count": null,
      "metadata": {
        "id": "BRfkQaqJ89CH"
      },
      "outputs": [],
      "source": [
        "holc.holc_grade.mean()"
      ]
    },
    {
      "cell_type": "markdown",
      "metadata": {
        "id": "scXwzqhp1iMK"
      },
      "source": [
        "With string data, maybe you instead want to try counting with `DataFrame.value_counts()`.This finds unique values and how many times they appear. Let's try that by looking at the ratings.\n"
      ]
    },
    {
      "cell_type": "code",
      "execution_count": null,
      "metadata": {
        "id": "GshFFtJ09CHO"
      },
      "outputs": [],
      "source": [
        "holc.holc_grade.value_counts()"
      ]
    },
    {
      "cell_type": "markdown",
      "metadata": {
        "id": "ZV7Kq1w62GEZ"
      },
      "source": [
        "You can count the values of any column, regardless of data type.\n",
        "\n",
        "However, this only make sense when a column has repeated values, for example the `holc_grade` column. Counting by `metro_area` will just tell us how many areas have unqiue names and that isn't particularly helfpul."
      ]
    },
    {
      "cell_type": "markdown",
      "metadata": {
        "id": "9IM_AauB5JtP"
      },
      "source": [
        "## `.groupby()` Function\n",
        "\n",
        "This is an extremely useful part of pandas--it lets us select a categorical column and get descriptive stats based on those categories.\n",
        "\n"
      ]
    },
    {
      "cell_type": "code",
      "execution_count": null,
      "metadata": {
        "id": "-XrnjrwM9WYG"
      },
      "outputs": [],
      "source": [
        "holc.groupby(\"holc_grade\")"
      ]
    },
    {
      "cell_type": "markdown",
      "metadata": {
        "id": "U7OPgynA5JtQ"
      },
      "source": [
        "Just using `.groupby` won't do anything because it's waiting for us to run a *summary function* like we saw above.\n",
        "\n",
        "What if we wanted the average White percent of a population by grade?"
      ]
    },
    {
      "cell_type": "code",
      "execution_count": null,
      "metadata": {
        "id": "kk5ooqHb9fiF"
      },
      "outputs": [],
      "source": [
        "holc.groupby(\"holc_grade\")[\"pct_white\"].mean()\n",
        "#put the cateogry you're grouping by first, then the column for your summary function"
      ]
    },
    {
      "cell_type": "markdown",
      "metadata": {
        "id": "xn0j28y96IBc"
      },
      "source": [
        "Holc grades were based on how many people of color were in a neighborhood. Which was the most significant factor in determining the grade--the percent Black, Hispanic, or Asian?"
      ]
    },
    {
      "cell_type": "code",
      "execution_count": null,
      "metadata": {
        "id": "4CRd-4TyKCp7"
      },
      "outputs": [],
      "source": [
        "holc.columns"
      ]
    },
    {
      "cell_type": "code",
      "execution_count": null,
      "metadata": {
        "id": "qUTN2HeaBIrJ"
      },
      "outputs": [],
      "source": [
        "holc.groupby(\"holc_grade\")[[\"pct_white\", \"pct_black\", \"pct_hisp\",\"pct_asian\"]].mean()"
      ]
    },
    {
      "cell_type": "markdown",
      "metadata": {
        "id": "ch4SLfr33R52"
      },
      "source": [
        "#Making Changes\n",
        "\n",
        "Rarely will a dataset have all of the information in it that we want already available, so we may need to make some changes.\n",
        "\n",
        "\n",
        "Let's find the amount of a population that isn't white in an area; we have the data for each racial demographic, but we want the total non-white population.\n",
        "The following code does this:"
      ]
    },
    {
      "cell_type": "code",
      "execution_count": null,
      "metadata": {
        "id": "nobAKP0bDm6A"
      },
      "outputs": [],
      "source": [
        "holc[\"POC_pop\"]=holc[\"total_pop\"]-holc[\"white_pop\"]"
      ]
    },
    {
      "cell_type": "markdown",
      "metadata": {
        "id": "dpy8BCgk3R53"
      },
      "source": [
        "Adding a new column based on another one is simple--you pretend that it exists and assign it a value. You can do any standard mathemetical operations, combing multiple columns as necessary.\n",
        "\n",
        "Now, we have a `POC_pop` column in our DataFrame."
      ]
    },
    {
      "cell_type": "code",
      "execution_count": null,
      "metadata": {
        "id": "IXk6tlc32AJ5"
      },
      "outputs": [],
      "source": [
        "holc.head()"
      ]
    },
    {
      "cell_type": "code",
      "execution_count": null,
      "metadata": {
        "id": "fW81UcF53R53"
      },
      "outputs": [],
      "source": [
        "holc.columns"
      ]
    },
    {
      "cell_type": "markdown",
      "metadata": {
        "id": "rdExCQBQ3R53"
      },
      "source": [
        "Let's add an **indicator column** where we focus on the areas that have a total POC population above/below the *average* for POC in a neighborhood.\n"
      ]
    },
    {
      "cell_type": "code",
      "execution_count": null,
      "metadata": {
        "id": "q-yFhGOdEEVL"
      },
      "outputs": [],
      "source": [
        "holc.POC_pop.mean()"
      ]
    },
    {
      "cell_type": "markdown",
      "metadata": {
        "id": "8-bwbULKEK8g"
      },
      "source": [
        "A indicator column in a dataset which takes on only *True/False* values. An indicator variable can be used to store information about another column, for example."
      ]
    },
    {
      "cell_type": "code",
      "execution_count": null,
      "metadata": {
        "id": "wZTYABZeEMPK"
      },
      "outputs": [],
      "source": [
        "holc[\"high_poc\"]=holc[\"POC_pop\"]>=44901"
      ]
    },
    {
      "cell_type": "code",
      "execution_count": null,
      "metadata": {
        "id": "bIRzal3nEbVo"
      },
      "outputs": [],
      "source": [
        "holc[[\"high_poc\",\"POC_pop\"]].head()"
      ]
    },
    {
      "cell_type": "code",
      "execution_count": null,
      "metadata": {
        "id": "T1yNhotCEtQ4"
      },
      "outputs": [],
      "source": [
        "holc.loc[holc.high_poc==True]"
      ]
    },
    {
      "cell_type": "code",
      "execution_count": null,
      "metadata": {
        "id": "HRLuVuFxQCNe"
      },
      "outputs": [],
      "source": [
        "high_poc=holc.loc[holc.high_poc==True]"
      ]
    },
    {
      "cell_type": "code",
      "execution_count": null,
      "metadata": {
        "id": "_44pCGNvQD1m"
      },
      "outputs": [],
      "source": [
        "high_poc.holc_grade.value_counts()"
      ]
    },
    {
      "cell_type": "markdown",
      "metadata": {
        "id": "BNCdJKuy4-4n"
      },
      "source": [
        "I made my column `POC_pop`, when everything else is done in lower case. If that annoys me (or any column name annoys me) I can change that."
      ]
    },
    {
      "cell_type": "code",
      "execution_count": null,
      "metadata": {
        "id": "R2Lo9lQ129aO"
      },
      "outputs": [],
      "source": [
        "holc.columns"
      ]
    },
    {
      "cell_type": "code",
      "execution_count": null,
      "metadata": {
        "id": "eXOPRtlvGiNj"
      },
      "outputs": [],
      "source": [
        "holc = holc.rename(columns={\"POC_pop\":\"poc_pop\"})\n",
        "                  #original name: new name"
      ]
    },
    {
      "cell_type": "markdown",
      "metadata": {
        "id": "RMIjeO1v6qgx"
      },
      "source": [
        "##Sorting Values\n",
        "\n",
        "We can also sort a series from highest to lowest, which is extremely useful when done with `.head()` as it allows us to see the highest and lowest values.\n",
        "\n",
        "\n"
      ]
    },
    {
      "cell_type": "code",
      "execution_count": null,
      "metadata": {
        "id": "lvBhzt1GG8qQ"
      },
      "outputs": [],
      "source": [
        "highest_pop=holc.groupby(\"holc_grade\")[\"black_pop\"].mean()\n",
        "highest_pop.sort_values()"
      ]
    },
    {
      "cell_type": "markdown",
      "metadata": {
        "id": "cFSqfyQMBJ56"
      },
      "source": [
        "The default behavior of sort_values()—if we don’t provide any arguments—is to sort in ascending order (from smallest to largest). However, this can be confusing in our case: to a distracted observer, it might look like A is the grade with the highest value. In situations like this, it’s often clearer to sort the results in descending order instead."
      ]
    },
    {
      "cell_type": "code",
      "execution_count": null,
      "metadata": {
        "id": "8zdPwi-7BGlR"
      },
      "outputs": [],
      "source": [
        "highest_pop.sort_values(ascending = False)"
      ]
    },
    {
      "cell_type": "markdown",
      "metadata": {
        "id": "hbXZXiv2ICQQ"
      },
      "source": [
        "That's actually a little bit of a surprise; C grades had higher black populations than D grades.\n"
      ]
    }
  ],
  "metadata": {
    "colab": {
      "include_colab_link": true,
      "provenance": []
    },
    "kernelspec": {
      "display_name": "Python 3",
      "name": "python3"
    },
    "language_info": {
      "name": "python",
      "version": "3.11.2"
    }
  },
  "nbformat": 4,
  "nbformat_minor": 0
}
